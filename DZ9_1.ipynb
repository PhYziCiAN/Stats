{
 "cells": [
  {
   "cell_type": "markdown",
   "id": "03ca7e43-6825-465a-8b98-3d039401fc46",
   "metadata": {},
   "source": [
    "**ЛИНЕЙНАЯ РЕГРЕССИЯ**"
   ]
  },
  {
   "cell_type": "markdown",
   "id": "17d583d9-dd10-46c9-8dbc-f6b77b4d529c",
   "metadata": {},
   "source": [
    "1. Даны значения величины заработной платы заемщиков банка (zp) и значения их поведенческого кредитного скоринга (ks): zp = [35, 45, 190, 200, 40, 70, 54, 150, 120, 110], ks = [401, 574, 874, 919, 459, 739, 653, 902, 746, 832]. Используя математические операции, посчитать коэффициенты линейной регрессии, приняв за X заработную плату (то есть, zp - признак), а за y - значения скорингового балла (то есть, ks - целевая переменная). Произвести расчет как с использованием intercept, так и без."
   ]
  },
  {
   "cell_type": "code",
   "execution_count": 84,
   "id": "b03b3eef-f7b1-42ed-8574-f1b9d26e6125",
   "metadata": {},
   "outputs": [],
   "source": [
    "import numpy as np\n",
    "import scipy.stats as stats"
   ]
  },
  {
   "cell_type": "code",
   "execution_count": 85,
   "id": "3dcc631f-0be7-4f5f-bf67-8065ee1eece9",
   "metadata": {},
   "outputs": [
    {
     "data": {
      "text/plain": [
       "'%.4f'"
      ]
     },
     "execution_count": 85,
     "metadata": {},
     "output_type": "execute_result"
    }
   ],
   "source": [
    "%precision 4"
   ]
  },
  {
   "cell_type": "code",
   "execution_count": 86,
   "id": "87f1335e-ecfa-44b1-a761-83dc4e60166c",
   "metadata": {
    "tags": []
   },
   "outputs": [],
   "source": [
    "zp = np.array([35, 45, 190, 200, 40, 70, 54, 150, 120, 110]) # это Х - независимая переменная\n",
    "ks = np.array([401, 574, 874, 919, 459, 739, 653, 902, 746, 832]) # целевая переменная"
   ]
  },
  {
   "cell_type": "markdown",
   "id": "0d8572e6-19d2-4579-a29d-fe720e953a2c",
   "metadata": {},
   "source": [
    "$\\hat y = \\beta_0+\\beta_1*X$ &emsp; -> с интерсептом &emsp;&emsp; $\\hat y = \\beta_1*X$&emsp;-> без интерсепта--> \n",
    "$\\begin{pmatrix}y_1\\\\y_2\\\\ \\dots \\\\y_n \\end{pmatrix} = \\begin{pmatrix}x_1\\\\x_2\\\\ \\dots \\\\x_n \\end{pmatrix}\\begin{pmatrix}  \\\\ \\beta_1 \\\\   \\\\ \\end{pmatrix}$"
   ]
  },
  {
   "cell_type": "code",
   "execution_count": 87,
   "id": "ca53d550-149f-43b1-a58f-42f4ff3fea1e",
   "metadata": {},
   "outputs": [
    {
     "data": {
      "text/plain": [
       "2.6205"
      ]
     },
     "execution_count": 87,
     "metadata": {},
     "output_type": "execute_result"
    }
   ],
   "source": [
    "b = (np.mean(zp*ks) - np.mean(zp)*np.mean(ks))/(np.mean(zp**2) - np.mean(zp)**2)\n",
    "b"
   ]
  },
  {
   "cell_type": "code",
   "execution_count": 88,
   "id": "76495b29-b5f0-4d4a-b807-44f1a9fb7e4a",
   "metadata": {},
   "outputs": [
    {
     "data": {
      "text/plain": [
       "444.1774"
      ]
     },
     "execution_count": 88,
     "metadata": {},
     "output_type": "execute_result"
    }
   ],
   "source": [
    "a = np.mean(ks)-b*np.mean(zp)\n",
    "a"
   ]
  },
  {
   "cell_type": "code",
   "execution_count": 89,
   "id": "baff326a-1c84-45ed-b3cd-9862addeffc0",
   "metadata": {},
   "outputs": [
    {
     "data": {
      "text/plain": [
       "(array([[ 35],\n",
       "        [ 45],\n",
       "        [190],\n",
       "        [200],\n",
       "        [ 40],\n",
       "        [ 70],\n",
       "        [ 54],\n",
       "        [150],\n",
       "        [120],\n",
       "        [110]]),\n",
       " array([[401],\n",
       "        [574],\n",
       "        [874],\n",
       "        [919],\n",
       "        [459],\n",
       "        [739],\n",
       "        [653],\n",
       "        [902],\n",
       "        [746],\n",
       "        [832]]))"
      ]
     },
     "execution_count": 89,
     "metadata": {},
     "output_type": "execute_result"
    }
   ],
   "source": [
    "X = zp.reshape(10, 1)\n",
    "Y = ks.reshape(10, 1)\n",
    "X, Y"
   ]
  },
  {
   "cell_type": "markdown",
   "id": "160e58b2-527b-44d7-9fba-0adf66f4f5d8",
   "metadata": {},
   "source": [
    "$ \\hat B = (X^T*X)^{-1}* X^T*Y$"
   ]
  },
  {
   "cell_type": "markdown",
   "id": "842726dd-3ee9-4bba-8504-91d5ef11b61e",
   "metadata": {},
   "source": [
    "$\\begin{pmatrix}y_1\\\\y_2\\\\ \\dots \\\\y_n \\end{pmatrix} = \\begin{pmatrix}1 & x_1\\\\1 & x_2\\\\ \\dots & \\dots \\\\1 & x_n \\end{pmatrix}\\begin{pmatrix} \\beta_0 \\\\ \\beta_1 \\\\ \\end{pmatrix}$ &emsp; --> с интерсептом"
   ]
  },
  {
   "cell_type": "code",
   "execution_count": 90,
   "id": "07aee258-f2cc-4f7e-8f31-800ea43d12e8",
   "metadata": {},
   "outputs": [
    {
     "data": {
      "text/plain": [
       "array([5.8898])"
      ]
     },
     "execution_count": 90,
     "metadata": {},
     "output_type": "execute_result"
    }
   ],
   "source": [
    "B = np.dot(np.linalg.inv(np.dot(X.T, X)), X.T @ ks) # без интерсепта\n",
    "B"
   ]
  },
  {
   "cell_type": "code",
   "execution_count": 91,
   "id": "382f6ecf-d42b-42b6-9e83-a366e1da8315",
   "metadata": {},
   "outputs": [
    {
     "data": {
      "text/plain": [
       "array([[  1.,  35.],\n",
       "       [  1.,  45.],\n",
       "       [  1., 190.],\n",
       "       [  1., 200.],\n",
       "       [  1.,  40.],\n",
       "       [  1.,  70.],\n",
       "       [  1.,  54.],\n",
       "       [  1., 150.],\n",
       "       [  1., 120.],\n",
       "       [  1., 110.]])"
      ]
     },
     "execution_count": 91,
     "metadata": {},
     "output_type": "execute_result"
    }
   ],
   "source": [
    "X1 = np.hstack([np.ones((10, 1)),X])\n",
    "X1"
   ]
  },
  {
   "cell_type": "code",
   "execution_count": 92,
   "id": "e7713e4a-9e02-41a2-bc96-4e60bc5e9dfc",
   "metadata": {},
   "outputs": [
    {
     "data": {
      "text/plain": [
       "array([444.1774,   2.6205])"
      ]
     },
     "execution_count": 92,
     "metadata": {},
     "output_type": "execute_result"
    }
   ],
   "source": [
    "B1 = np.dot(np.linalg.inv(np.dot(X1.T, X1)), X1.T @ ks)\n",
    "B1"
   ]
  },
  {
   "cell_type": "markdown",
   "id": "72cecc99-c97d-4b67-99fa-c8207d8ab0f4",
   "metadata": {},
   "source": [
    "2. Посчитать коэффициент линейной регрессии при заработной плате (zp), используя градиентный спуск (без intercept)."
   ]
  },
  {
   "cell_type": "code",
   "execution_count": 93,
   "id": "5d83869b-a8bd-43c1-a20f-8ef70c156d31",
   "metadata": {},
   "outputs": [],
   "source": [
    "def mse_(B1, ks=ks, zp=zp, n = 10):\n",
    "    return np.sum((B1*zp-ks)**2)/n"
   ]
  },
  {
   "cell_type": "code",
   "execution_count": 94,
   "id": "98302a56-b842-4764-a93d-0634be0a353a",
   "metadata": {},
   "outputs": [],
   "source": [
    "B1 = 0.1\n",
    "alpha = 2e-5 # если обучение идет медленно, то либо добавляем количесвто итераций, либо увеличиваем alpha\n",
    "n = len(ks)"
   ]
  },
  {
   "cell_type": "code",
   "execution_count": 120,
   "id": "a8b7b1aa-b920-4025-ad05-366ac6cf81a2",
   "metadata": {},
   "outputs": [
    {
     "name": "stdout",
     "output_type": "stream",
     "text": [
      "Iteration: 0, B1=5.889820420132689, mse = 56516.85841571941\n",
      "Iteration: 75000, B1=5.889820420132689, mse = 56516.85841571941\n",
      "Iteration: 150000, B1=5.889820420132689, mse = 56516.85841571941\n",
      "Iteration: 225000, B1=5.889820420132689, mse = 56516.85841571941\n"
     ]
    }
   ],
   "source": [
    "for i in range(300000):\n",
    "    B1 -= alpha*(2/n)*np.sum((B1*zp-ks)*zp)\n",
    "    if i%75000 ==0:\n",
    "        print(f'Iteration: {i}, B1={B1}, mse = {mse_(B1)}');"
   ]
  },
  {
   "cell_type": "code",
   "execution_count": 107,
   "id": "e56429b0-0f0c-413e-9326-03b9ef3f9ed4",
   "metadata": {},
   "outputs": [],
   "source": [
    "B1 = 0.1\n",
    "B0 = 0.1"
   ]
  },
  {
   "cell_type": "code",
   "execution_count": 99,
   "id": "201ba25a-bf2f-41a3-a986-2ccd7e4a272c",
   "metadata": {},
   "outputs": [],
   "source": [
    "def mse(B0, B1, ks=ks, zp=zp, n = 10):\n",
    "    return np.sum((B0+B1*zp-ks)**2)/n"
   ]
  },
  {
   "cell_type": "code",
   "execution_count": 109,
   "id": "aec1eef3-8df5-4695-993c-1ca7f4cebf77",
   "metadata": {},
   "outputs": [
    {
     "name": "stdout",
     "output_type": "stream",
     "text": [
      "Iteration: 0, B0 = 0.1279864, B1=3.2901560000000005, mse = 149526.33499003082\n",
      "Iteration: 1000000, B0 = 444.1599385302417, B1=2.6206670924287647, mse = 6470.414278142239\n",
      "Iteration: 2000000, B0 = 444.1773566410366, B1=2.6205388874323243, mse = 6470.414201176665\n",
      "Iteration: 3000000, B0 = 444.1773573215585, B1=2.6205388824233826, mse = 6470.414201176654\n",
      "Iteration: 4000000, B0 = 444.1773573215585, B1=2.6205388824233826, mse = 6470.414201176654\n",
      "CPU times: total: 1min 23s\n",
      "Wall time: 1min 41s\n"
     ]
    }
   ],
   "source": [
    "%%time\n",
    "for i in range(4000001):\n",
    "    y_pred = B0+B1*zp\n",
    "    B0 -= alpha*(2/n)*np.sum((y_pred-ks))\n",
    "    B1 -= alpha*(2/n)*np.sum((y_pred-ks)*zp)\n",
    "    if i%1000000 ==0:\n",
    "        print(f'Iteration: {i}, B0 = {B0}, B1={B1}, mse = {mse(B0,B1)}');"
   ]
  },
  {
   "cell_type": "code",
   "execution_count": 110,
   "id": "de0f89f7-4c91-4eb5-a30c-d305f784a614",
   "metadata": {},
   "outputs": [
    {
     "name": "stdout",
     "output_type": "stream",
     "text": [
      "Variable   Type        Data/Info\n",
      "--------------------------------\n",
      "B          ndarray     1: 1 elems, type `float64`, 8 bytes\n",
      "B0         float64     444.1773573215585\n",
      "B1         float64     2.6205388824233826\n",
      "X          ndarray     10x1: 10 elems, type `int32`, 40 bytes\n",
      "X1         ndarray     10x2: 20 elems, type `float64`, 160 bytes\n",
      "Y          ndarray     10x1: 10 elems, type `int32`, 40 bytes\n",
      "a          float64     444.1773573243596\n",
      "alpha      float       2e-05\n",
      "b          float64     2.620538882402765\n",
      "i          int         4000000\n",
      "ks         ndarray     10: 10 elems, type `int32`, 40 bytes\n",
      "mse        function    <function mse at 0x000001DAAC8969D0>\n",
      "mse_       function    <function mse_ at 0x000001DAAD8344C0>\n",
      "n          int         10\n",
      "np         module      <module 'numpy' from 'C:\\<...>ges\\\\numpy\\\\__init__.py'>\n",
      "stats      module      <module 'scipy.stats' fro<...>ipy\\\\stats\\\\__init__.py'>\n",
      "y_pred     ndarray     10: 10 elems, type `float64`, 80 bytes\n",
      "zp         ndarray     10: 10 elems, type `int32`, 40 bytes\n"
     ]
    }
   ],
   "source": [
    "%whos"
   ]
  },
  {
   "cell_type": "code",
   "execution_count": 116,
   "id": "f1427c45-66a0-486d-951d-d75ef250334d",
   "metadata": {},
   "outputs": [
    {
     "data": {
      "text/plain": [
       "\u001b[1;31mSignature:\u001b[0m\n",
       "\u001b[0mmse\u001b[0m\u001b[1;33m(\u001b[0m\u001b[1;33m\n",
       "\u001b[0m    \u001b[0mB0\u001b[0m\u001b[1;33m,\u001b[0m\u001b[1;33m\n",
       "\u001b[0m    \u001b[0mB1\u001b[0m\u001b[1;33m,\u001b[0m\u001b[1;33m\n",
       "\u001b[0m    \u001b[0mks\u001b[0m\u001b[1;33m=\u001b[0m\u001b[0marray\u001b[0m\u001b[1;33m(\u001b[0m\u001b[1;33m[\u001b[0m\u001b[1;36m401\u001b[0m\u001b[1;33m,\u001b[0m \u001b[1;36m574\u001b[0m\u001b[1;33m,\u001b[0m \u001b[1;36m874\u001b[0m\u001b[1;33m,\u001b[0m \u001b[1;36m919\u001b[0m\u001b[1;33m,\u001b[0m \u001b[1;36m459\u001b[0m\u001b[1;33m,\u001b[0m \u001b[1;36m739\u001b[0m\u001b[1;33m,\u001b[0m \u001b[1;36m653\u001b[0m\u001b[1;33m,\u001b[0m \u001b[1;36m902\u001b[0m\u001b[1;33m,\u001b[0m \u001b[1;36m746\u001b[0m\u001b[1;33m,\u001b[0m \u001b[1;36m832\u001b[0m\u001b[1;33m]\u001b[0m\u001b[1;33m)\u001b[0m\u001b[1;33m,\u001b[0m\u001b[1;33m\n",
       "\u001b[0m    \u001b[0mzp\u001b[0m\u001b[1;33m=\u001b[0m\u001b[0marray\u001b[0m\u001b[1;33m(\u001b[0m\u001b[1;33m[\u001b[0m \u001b[1;36m35\u001b[0m\u001b[1;33m,\u001b[0m  \u001b[1;36m45\u001b[0m\u001b[1;33m,\u001b[0m \u001b[1;36m190\u001b[0m\u001b[1;33m,\u001b[0m \u001b[1;36m200\u001b[0m\u001b[1;33m,\u001b[0m  \u001b[1;36m40\u001b[0m\u001b[1;33m,\u001b[0m  \u001b[1;36m70\u001b[0m\u001b[1;33m,\u001b[0m  \u001b[1;36m54\u001b[0m\u001b[1;33m,\u001b[0m \u001b[1;36m150\u001b[0m\u001b[1;33m,\u001b[0m \u001b[1;36m120\u001b[0m\u001b[1;33m,\u001b[0m \u001b[1;36m110\u001b[0m\u001b[1;33m]\u001b[0m\u001b[1;33m)\u001b[0m\u001b[1;33m,\u001b[0m\u001b[1;33m\n",
       "\u001b[0m    \u001b[0mn\u001b[0m\u001b[1;33m=\u001b[0m\u001b[1;36m10\u001b[0m\u001b[1;33m,\u001b[0m\u001b[1;33m\n",
       "\u001b[0m\u001b[1;33m)\u001b[0m\u001b[1;33m\u001b[0m\u001b[1;33m\u001b[0m\u001b[0m\n",
       "\u001b[1;31mDocstring:\u001b[0m <no docstring>\n",
       "\u001b[1;31mSource:\u001b[0m   \n",
       "\u001b[1;32mdef\u001b[0m \u001b[0mmse\u001b[0m\u001b[1;33m(\u001b[0m\u001b[0mB0\u001b[0m\u001b[1;33m,\u001b[0m \u001b[0mB1\u001b[0m\u001b[1;33m,\u001b[0m \u001b[0mks\u001b[0m\u001b[1;33m=\u001b[0m\u001b[0mks\u001b[0m\u001b[1;33m,\u001b[0m \u001b[0mzp\u001b[0m\u001b[1;33m=\u001b[0m\u001b[0mzp\u001b[0m\u001b[1;33m,\u001b[0m \u001b[0mn\u001b[0m \u001b[1;33m=\u001b[0m \u001b[1;36m10\u001b[0m\u001b[1;33m)\u001b[0m\u001b[1;33m:\u001b[0m\u001b[1;33m\n",
       "\u001b[0m    \u001b[1;32mreturn\u001b[0m \u001b[0mnp\u001b[0m\u001b[1;33m.\u001b[0m\u001b[0msum\u001b[0m\u001b[1;33m(\u001b[0m\u001b[1;33m(\u001b[0m\u001b[0mB0\u001b[0m\u001b[1;33m+\u001b[0m\u001b[0mB1\u001b[0m\u001b[1;33m*\u001b[0m\u001b[0mzp\u001b[0m\u001b[1;33m-\u001b[0m\u001b[0mks\u001b[0m\u001b[1;33m)\u001b[0m\u001b[1;33m**\u001b[0m\u001b[1;36m2\u001b[0m\u001b[1;33m)\u001b[0m\u001b[1;33m/\u001b[0m\u001b[0mn\u001b[0m\u001b[1;33m\u001b[0m\u001b[1;33m\u001b[0m\u001b[0m\n",
       "\u001b[1;31mFile:\u001b[0m      c:\\users\\phyzician\\appdata\\local\\temp\\ipykernel_13760\\3533577948.py\n",
       "\u001b[1;31mType:\u001b[0m      function\n"
      ]
     },
     "metadata": {},
     "output_type": "display_data"
    }
   ],
   "source": [
    "%pinfo2 mse"
   ]
  }
 ],
 "metadata": {
  "kernelspec": {
   "display_name": "Python 3 (ipykernel)",
   "language": "python",
   "name": "python3"
  },
  "language_info": {
   "codemirror_mode": {
    "name": "ipython",
    "version": 3
   },
   "file_extension": ".py",
   "mimetype": "text/x-python",
   "name": "python",
   "nbconvert_exporter": "python",
   "pygments_lexer": "ipython3",
   "version": "3.9.13"
  }
 },
 "nbformat": 4,
 "nbformat_minor": 5
}
