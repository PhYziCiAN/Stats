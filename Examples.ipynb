{
 "cells": [
  {
   "cell_type": "markdown",
   "id": "0d4a84f8-a0fc-416c-8a3c-722ffcc1fb8b",
   "metadata": {},
   "source": [
    "<span style=\"color:red\"><b>Смещенное СО и дисперсия</span>"
   ]
  },
  {
   "cell_type": "code",
   "execution_count": 2,
   "id": "affeb545-3307-4ce6-b439-f5e301018fd3",
   "metadata": {
    "tags": []
   },
   "outputs": [],
   "source": [
    "import numpy as np\n",
    "import scipy.special as sc\n",
    "import scipy.stats as stats"
   ]
  },
  {
   "cell_type": "code",
   "execution_count": 3,
   "id": "4b01f0f1-1caf-4295-b825-ebe2576fb85f",
   "metadata": {},
   "outputs": [],
   "source": [
    "salary_array = ([100, 80, 75, 77, 89, 33, 45, 25, 65, 17, 30, 24, 57, 55, 70, 75, 65, 84, 90, 150])"
   ]
  },
  {
   "cell_type": "code",
   "execution_count": 4,
   "id": "5162de8d-3ff6-4498-be63-772255d9a853",
   "metadata": {},
   "outputs": [
    {
     "data": {
      "text/plain": [
       "65.3"
      ]
     },
     "execution_count": 4,
     "metadata": {},
     "output_type": "execute_result"
    }
   ],
   "source": [
    "#len(salary_array)\n",
    "np.mean(salary_array)"
   ]
  },
  {
   "cell_type": "code",
   "execution_count": 5,
   "id": "e4261754-5945-4ad9-9de9-278378272f4f",
   "metadata": {},
   "outputs": [
    {
     "name": "stdout",
     "output_type": "stream",
     "text": [
      "1204.09, 216.09, 94.09, 136.89, 561.69, 1043.29, 412.09, 1624.09, 0.09, 2332.89, 1246.09, 1705.69, 68.89, 106.09, 22.09, 94.09, 0.09, 349.69, 610.09, 7174.09, "
     ]
    }
   ],
   "source": [
    "new_arr = [(i-65.3) for i in salary_array]\n",
    "next_arr = [i*i for i in new_arr]\n",
    "for i in next_arr:\n",
    "    print(f'{i:.2f}',end=\", \")"
   ]
  },
  {
   "cell_type": "code",
   "execution_count": 6,
   "id": "ff840d93-af55-4731-b17d-b87a1b1e5d72",
   "metadata": {},
   "outputs": [
    {
     "data": {
      "text/plain": [
       "30.823854398825596"
      ]
     },
     "execution_count": 6,
     "metadata": {},
     "output_type": "execute_result"
    }
   ],
   "source": [
    "np.std(salary_array) #standard deviation смещенное СО"
   ]
  },
  {
   "cell_type": "code",
   "execution_count": 7,
   "id": "530c0ab2-884c-42ea-abd4-15c670e4b05d",
   "metadata": {},
   "outputs": [
    {
     "data": {
      "text/plain": [
       "31.624607341019814"
      ]
     },
     "execution_count": 7,
     "metadata": {},
     "output_type": "execute_result"
    }
   ],
   "source": [
    "np.std(salary_array, ddof=1) #standard deviation несмещенное СО"
   ]
  },
  {
   "cell_type": "code",
   "execution_count": 8,
   "id": "7f68ce8d-7423-4e67-8910-f0945b289a90",
   "metadata": {},
   "outputs": [
    {
     "data": {
      "text/plain": [
       "950.11"
      ]
     },
     "execution_count": 8,
     "metadata": {},
     "output_type": "execute_result"
    }
   ],
   "source": [
    "np.var(salary_array) #varriance смещнная дисперсия"
   ]
  },
  {
   "cell_type": "code",
   "execution_count": 9,
   "id": "eb9c9558-0660-4fa9-8fa5-0024e83d01d7",
   "metadata": {},
   "outputs": [
    {
     "data": {
      "text/plain": [
       "1000.1157894736842"
      ]
     },
     "execution_count": 9,
     "metadata": {},
     "output_type": "execute_result"
    }
   ],
   "source": [
    "np.var(salary_array, ddof=1) #varriance несмещенная дисперсия"
   ]
  },
  {
   "cell_type": "code",
   "execution_count": 10,
   "id": "018388ee-28a4-4863-a8be-5eb22526609e",
   "metadata": {},
   "outputs": [
    {
     "data": {
      "text/plain": [
       "30.823854398825596"
      ]
     },
     "execution_count": 10,
     "metadata": {},
     "output_type": "execute_result"
    }
   ],
   "source": [
    "np.sqrt(np.var(salary_array)) # another way to calculate standard deviation"
   ]
  },
  {
   "cell_type": "code",
   "execution_count": 11,
   "id": "0a63a3d1-1f88-4350-a16b-d9d897ea20b5",
   "metadata": {},
   "outputs": [
    {
     "data": {
      "text/plain": [
       "1.0"
      ]
     },
     "execution_count": 11,
     "metadata": {},
     "output_type": "execute_result"
    }
   ],
   "source": [
    "sc.comb(3,3)"
   ]
  },
  {
   "cell_type": "code",
   "execution_count": 12,
   "id": "ea111e0d-c67a-4c21-81f5-297688701e5f",
   "metadata": {},
   "outputs": [
    {
     "data": {
      "text/plain": [
       "0.12626262626262627"
      ]
     },
     "execution_count": 12,
     "metadata": {},
     "output_type": "execute_result"
    }
   ],
   "source": [
    "P = ((sc.comb(5,0)*sc.comb(3,2))/sc.comb(8,2))*((sc.comb(5,3)*sc.comb(7,1))/sc.comb(12,4))\n",
    "+((sc.comb(5,1)*sc.comb(3,1))/sc.comb(8,2))*((sc.comb(5,2)*sc.comb(7,2))/sc.comb(12,4))\n",
    "+((sc.comb(5,2)*sc.comb(3,0))/sc.comb(8,2))*((sc.comb(5,1)*sc.comb(7,3))/sc.comb(12,4))"
   ]
  },
  {
   "cell_type": "markdown",
   "id": "e62287cc-588f-4b5f-a69d-7c7fd6a1d94e",
   "metadata": {},
   "source": [
    "$P=\\frac{C^{0}_{5}*C^{2}_{3}}{C^{2}_{8}}*\\frac{C^{3}_{5}*C^{1}_{7}}{C^{4}_{12}}\n",
    "+\\frac{C^{1}_{5}*C^{1}_{3}}{C^{2}_{8}}*\\frac{C^{2}_{5}*C^{2}_{7}}{C^{4}_{12}}\n",
    "+\\frac{C^{2}_{5}*C^{0}_{3}}{C^{2}_{8}}*\\frac{C^{1}_{5}*C^{3}_{7}}{C^{4}_{12}} = 0.126$"
   ]
  },
  {
   "cell_type": "markdown",
   "id": "0e6b770b-6d32-4890-b934-9488026eb59a",
   "metadata": {
    "tags": []
   },
   "source": [
    "```python\n",
    "?sc.comb # when question sign first then help info about command (for instance SC.COMB) emerge\n",
    "```"
   ]
  },
  {
   "cell_type": "code",
   "execution_count": 13,
   "id": "92f85e3d-e8d0-470f-957d-6402da9909c6",
   "metadata": {},
   "outputs": [
    {
     "data": {
      "application/json": {
       "cell": {
        "!": "OSMagics",
        "HTML": "Other",
        "SVG": "Other",
        "bash": "Other",
        "capture": "ExecutionMagics",
        "cmd": "Other",
        "debug": "ExecutionMagics",
        "file": "Other",
        "html": "DisplayMagics",
        "javascript": "DisplayMagics",
        "js": "DisplayMagics",
        "latex": "DisplayMagics",
        "markdown": "DisplayMagics",
        "perl": "Other",
        "prun": "ExecutionMagics",
        "pypy": "Other",
        "python": "Other",
        "python2": "Other",
        "python3": "Other",
        "ruby": "Other",
        "script": "ScriptMagics",
        "sh": "Other",
        "svg": "DisplayMagics",
        "sx": "OSMagics",
        "system": "OSMagics",
        "time": "ExecutionMagics",
        "timeit": "ExecutionMagics",
        "writefile": "OSMagics"
       },
       "line": {
        "alias": "OSMagics",
        "alias_magic": "BasicMagics",
        "autoawait": "AsyncMagics",
        "autocall": "AutoMagics",
        "automagic": "AutoMagics",
        "autosave": "KernelMagics",
        "bookmark": "OSMagics",
        "cd": "OSMagics",
        "clear": "KernelMagics",
        "cls": "KernelMagics",
        "colors": "BasicMagics",
        "conda": "PackagingMagics",
        "config": "ConfigMagics",
        "connect_info": "KernelMagics",
        "copy": "Other",
        "ddir": "Other",
        "debug": "ExecutionMagics",
        "dhist": "OSMagics",
        "dirs": "OSMagics",
        "doctest_mode": "BasicMagics",
        "echo": "Other",
        "ed": "Other",
        "edit": "KernelMagics",
        "env": "OSMagics",
        "gui": "BasicMagics",
        "hist": "Other",
        "history": "HistoryMagics",
        "killbgscripts": "ScriptMagics",
        "ldir": "Other",
        "less": "KernelMagics",
        "load": "CodeMagics",
        "load_ext": "ExtensionMagics",
        "loadpy": "CodeMagics",
        "logoff": "LoggingMagics",
        "logon": "LoggingMagics",
        "logstart": "LoggingMagics",
        "logstate": "LoggingMagics",
        "logstop": "LoggingMagics",
        "ls": "Other",
        "lsmagic": "BasicMagics",
        "macro": "ExecutionMagics",
        "magic": "BasicMagics",
        "matplotlib": "PylabMagics",
        "mkdir": "Other",
        "more": "KernelMagics",
        "notebook": "BasicMagics",
        "page": "BasicMagics",
        "pastebin": "CodeMagics",
        "pdb": "ExecutionMagics",
        "pdef": "NamespaceMagics",
        "pdoc": "NamespaceMagics",
        "pfile": "NamespaceMagics",
        "pinfo": "NamespaceMagics",
        "pinfo2": "NamespaceMagics",
        "pip": "PackagingMagics",
        "popd": "OSMagics",
        "pprint": "BasicMagics",
        "precision": "BasicMagics",
        "prun": "ExecutionMagics",
        "psearch": "NamespaceMagics",
        "psource": "NamespaceMagics",
        "pushd": "OSMagics",
        "pwd": "OSMagics",
        "pycat": "OSMagics",
        "pylab": "PylabMagics",
        "qtconsole": "KernelMagics",
        "quickref": "BasicMagics",
        "recall": "HistoryMagics",
        "rehashx": "OSMagics",
        "reload_ext": "ExtensionMagics",
        "ren": "Other",
        "rep": "Other",
        "rerun": "HistoryMagics",
        "reset": "NamespaceMagics",
        "reset_selective": "NamespaceMagics",
        "rmdir": "Other",
        "run": "ExecutionMagics",
        "save": "CodeMagics",
        "sc": "OSMagics",
        "set_env": "OSMagics",
        "store": "StoreMagics",
        "sx": "OSMagics",
        "system": "OSMagics",
        "tb": "ExecutionMagics",
        "time": "ExecutionMagics",
        "timeit": "ExecutionMagics",
        "unalias": "OSMagics",
        "unload_ext": "ExtensionMagics",
        "who": "NamespaceMagics",
        "who_ls": "NamespaceMagics",
        "whos": "NamespaceMagics",
        "xdel": "NamespaceMagics",
        "xmode": "BasicMagics"
       }
      },
      "text/plain": [
       "Available line magics:\n",
       "%alias  %alias_magic  %autoawait  %autocall  %automagic  %autosave  %bookmark  %cd  %clear  %cls  %colors  %conda  %config  %connect_info  %copy  %ddir  %debug  %dhist  %dirs  %doctest_mode  %echo  %ed  %edit  %env  %gui  %hist  %history  %killbgscripts  %ldir  %less  %load  %load_ext  %loadpy  %logoff  %logon  %logstart  %logstate  %logstop  %ls  %lsmagic  %macro  %magic  %matplotlib  %mkdir  %more  %notebook  %page  %pastebin  %pdb  %pdef  %pdoc  %pfile  %pinfo  %pinfo2  %pip  %popd  %pprint  %precision  %prun  %psearch  %psource  %pushd  %pwd  %pycat  %pylab  %qtconsole  %quickref  %recall  %rehashx  %reload_ext  %ren  %rep  %rerun  %reset  %reset_selective  %rmdir  %run  %save  %sc  %set_env  %store  %sx  %system  %tb  %time  %timeit  %unalias  %unload_ext  %who  %who_ls  %whos  %xdel  %xmode\n",
       "\n",
       "Available cell magics:\n",
       "%%!  %%HTML  %%SVG  %%bash  %%capture  %%cmd  %%debug  %%file  %%html  %%javascript  %%js  %%latex  %%markdown  %%perl  %%prun  %%pypy  %%python  %%python2  %%python3  %%ruby  %%script  %%sh  %%svg  %%sx  %%system  %%time  %%timeit  %%writefile\n",
       "\n",
       "Automagic is ON, % prefix IS NOT needed for line magics."
      ]
     },
     "execution_count": 13,
     "metadata": {},
     "output_type": "execute_result"
    }
   ],
   "source": [
    "%lsmagic"
   ]
  },
  {
   "cell_type": "markdown",
   "id": "1c145dd3-4262-4f7b-94bd-a35aa25f8f19",
   "metadata": {
    "tags": []
   },
   "source": [
    "## Some LaTex based formula examples"
   ]
  },
  {
   "cell_type": "markdown",
   "id": "b6f0c014-801a-4740-9ccd-997c7b244845",
   "metadata": {},
   "source": [
    "$P (A \\mid B) = \\frac{P(B \\mid A)*P(B)}{P(A)}$ # Latex for formulas in <b>Markdown"
   ]
  },
  {
   "cell_type": "markdown",
   "id": "fcb09315-f557-47cd-a4c1-a5d4a5493179",
   "metadata": {},
   "source": [
    "$C{n \\choose x}$"
   ]
  },
  {
   "cell_type": "markdown",
   "id": "71c02d8f-44d5-4cbb-9a58-51cec0bb1347",
   "metadata": {},
   "source": [
    "$m = \\sum \\limits_{i=1}^{\\infty}f_i$"
   ]
  },
  {
   "cell_type": "markdown",
   "id": "444def86-acc0-4600-939a-459ed5d41af7",
   "metadata": {},
   "source": [
    "$\\sum_{n}^{x}$"
   ]
  },
  {
   "cell_type": "markdown",
   "id": "e5517c9f-e6db-497e-a870-5cf3c9c87c0d",
   "metadata": {},
   "source": [
    "$C^{3}_{5}= \\frac{5!}{3!*(5-3)!}$"
   ]
  },
  {
   "cell_type": "markdown",
   "id": "2137a5a6-5622-4dc1-83d7-9adc5fcd318e",
   "metadata": {},
   "source": [
    "$\\sigma^2$"
   ]
  },
  {
   "cell_type": "markdown",
   "id": "978c32b1-f38a-41f7-bb4f-f0bcde7982a4",
   "metadata": {},
   "source": [
    "$c = \\sqrt \\frac{a^2 + b^2}{c^2}$"
   ]
  },
  {
   "cell_type": "markdown",
   "id": "c1ca8d89-f750-4d66-96c8-0a2141b469b2",
   "metadata": {
    "jp-MarkdownHeadingCollapsed": true,
    "tags": []
   },
   "source": [
    "```python\n",
    "# it is a markdown cell with highlighted code\n",
    "\n",
    "for i in range(1,11): \n",
    "    %timeit sum(range(10*2))\n",
    "```"
   ]
  },
  {
   "cell_type": "markdown",
   "id": "dbba30ec-cf7e-409a-82eb-cda1432cfcc8",
   "metadata": {
    "tags": []
   },
   "source": [
    "<p style=\"text-align:center\">Non-parametric tests </p>"
   ]
  },
  {
   "cell_type": "code",
   "execution_count": 14,
   "id": "cf6976e9-4c50-425c-9ba2-a2a34ce32557",
   "metadata": {},
   "outputs": [
    {
     "data": {
      "text/plain": [
       "MannwhitneyuResult(statistic=5.0, pvalue=1.0)"
      ]
     },
     "execution_count": 14,
     "metadata": {},
     "output_type": "execute_result"
    }
   ],
   "source": [
    "# MannWitney (независимые)\n",
    "x1 = np.array([47, 90, 75])\n",
    "x2 = np.array([58, 60, 77])\n",
    "stats.mannwhitneyu(x1, x2)"
   ]
  },
  {
   "cell_type": "code",
   "execution_count": 15,
   "id": "0c807006-e995-4e3a-8fdb-c124e8b13fd9",
   "metadata": {},
   "outputs": [
    {
     "data": {
      "text/plain": [
       "WilcoxonResult(statistic=3.0, pvalue=0.009765625)"
      ]
     },
     "execution_count": 15,
     "metadata": {},
     "output_type": "execute_result"
    }
   ],
   "source": [
    "# Wilcoxon (зависимые)\n",
    "x1 = np.array([70, 74, 74.5, 79, 85, 93, 94, 98, 106.5, 107])\n",
    "x2 = np.array([64, 76.5, 67, 73.5, 89, 85, 89.5, 91, 98, 100.5])\n",
    "stats.wilcoxon (x1, x2)"
   ]
  },
  {
   "cell_type": "code",
   "execution_count": 16,
   "id": "c433f463-15c3-4557-925f-81d388ec13a2",
   "metadata": {},
   "outputs": [
    {
     "data": {
      "text/plain": [
       "KruskalResult(statistic=15.384044526901675, pvalue=0.00045645416718036815)"
      ]
     },
     "execution_count": 16,
     "metadata": {},
     "output_type": "execute_result"
    }
   ],
   "source": [
    "# Kruskal (множетсвенные независимые)\n",
    "group_1 = np.array([70, 50, 64, 61, 75, 67, 73])\n",
    "group_2 = np.array([80, 78, 90, 68, 74, 65, 85])\n",
    "group_3 = np.array([141, 142, 140, 152, 161, 163, 155])\n",
    "stats.kruskal(group_1, group_2, group_3)"
   ]
  },
  {
   "cell_type": "code",
   "execution_count": 17,
   "id": "e27e1d19-561f-4d4c-8fbb-063db17c1139",
   "metadata": {
    "tags": []
   },
   "outputs": [
    {
     "name": "stdout",
     "output_type": "stream",
     "text": [
      "FriedmanStat: 5.200, pvalue: 0.074\n"
     ]
    }
   ],
   "source": [
    "# Friedman (множетсвенные зависимые)\n",
    "before = np.array([123, 135, 119, 109, 145])\n",
    "mark_1 = np.array([126, 144, 117, 156, 170])\n",
    "mark_2 = np.array([141, 150, 164, 147, 169])\n",
    "\n",
    "statisitic, pvalue = stats.friedmanchisquare(before, mark_1, mark_2)\n",
    "print(f'FriedmanStat: {statisitic:.3f}, pvalue: {pvalue:.3f}') # some tricks with output"
   ]
  },
  {
   "cell_type": "code",
   "execution_count": 34,
   "id": "122f075b-0946-415e-abd7-0606f49b4a0d",
   "metadata": {},
   "outputs": [
    {
     "data": {
      "text/plain": [
       "WilcoxonResult(statistic=5.0, pvalue=0.00244140625)"
      ]
     },
     "execution_count": 34,
     "metadata": {},
     "output_type": "execute_result"
    }
   ],
   "source": [
    "x1 = np.array([21,17, 14, 42, 50, 62, 8, 49, 81, 54, 48, 55, 56])\n",
    "x2 = np.array([20, 26, 1, 24, 1, 47, 15, 7, 65, 9, 21, 36, 30])\n",
    "stats.wilcoxon (x1, x2)"
   ]
  },
  {
   "cell_type": "code",
   "execution_count": null,
   "id": "6bbae59b-0f66-40dd-971b-fcba71e6db3f",
   "metadata": {},
   "outputs": [],
   "source": [
    "x1 = np.array([20,17, 14, 42, 50, 62, 8, 49, 81, 54, 48, 55, 56])\n",
    "x2 = np.array([20, 26, 1, 24, 1, 47, 15, 7, 65, 9, 21, 36, 30])\n",
    "stats.wilcoxon (x1, x2)"
   ]
  },
  {
   "cell_type": "code",
   "execution_count": 33,
   "id": "3e9b9e14-5697-4dba-ace0-c307f7f9539e",
   "metadata": {},
   "outputs": [
    {
     "data": {
      "text/plain": [
       "KruskalResult(statistic=12.02000000000001, pvalue=0.002454088180413905)"
      ]
     },
     "execution_count": 33,
     "metadata": {},
     "output_type": "execute_result"
    }
   ],
   "source": [
    "gr1 = np.array([0.5, 0.7, 1, 1.2, 1.4])\n",
    "gr2 = np.array([1.3, 1.45, 1.6, 1.7, 1.8 ])\n",
    "gr3 = np.array([6.2, 12.6, 13.2, 14.1 , 14.2])\n",
    "\n",
    "stats.kruskal(gr1, gr2, gr3)"
   ]
  }
 ],
 "metadata": {
  "kernelspec": {
   "display_name": "Python 3 (ipykernel)",
   "language": "python",
   "name": "python3"
  },
  "language_info": {
   "codemirror_mode": {
    "name": "ipython",
    "version": 3
   },
   "file_extension": ".py",
   "mimetype": "text/x-python",
   "name": "python",
   "nbconvert_exporter": "python",
   "pygments_lexer": "ipython3",
   "version": "3.9.13"
  }
 },
 "nbformat": 4,
 "nbformat_minor": 5
}
