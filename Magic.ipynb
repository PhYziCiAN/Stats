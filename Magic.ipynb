{
 "cells": [
  {
   "cell_type": "markdown",
   "id": "ffe959bb-3b8a-40ce-b197-7c278aba8dfe",
   "metadata": {},
   "source": [
    "   **%hist**  \n",
    "    Эта команда возвращает текущую историю блокнота. Означает, что мы уже сделали в текущем проекте."
   ]
  },
  {
   "cell_type": "markdown",
   "id": "17180f10-6443-4709-9f60-9807c2c4cb57",
   "metadata": {},
   "source": [
    "**%who**  \n",
    "Приведенная выше команда вернет список всех переменных, определенных в текущей записной книжке."
   ]
  },
  {
   "cell_type": "markdown",
   "id": "80946c9e-d00c-4773-975f-e4125867db29",
   "metadata": {},
   "source": [
    "**%%timeit  \n",
    "%%time**"
   ]
  },
  {
   "cell_type": "markdown",
   "id": "fdef954a-b06b-475a-b0b3-180e010eda30",
   "metadata": {},
   "source": [
    "**%env**  \n",
    "Эта команда предлагает нам доступ и обработку переменных системной среды."
   ]
  },
  {
   "cell_type": "markdown",
   "id": "8bc5fdbf-f8cd-4d4c-8db7-70c17a23bbc4",
   "metadata": {},
   "source": [
    "**%notebook**  \n",
    "Эта функция преобразует текущую историю IPython в файл записной книжки IPython с расширением ipynb. Ячейки ввода в предыдущем примере сохраняются как sine.ipynb\n",
    "\n",
    "***%notebook sine.ipynb***"
   ]
  },
  {
   "cell_type": "markdown",
   "id": "a8e0d44f-416c-43bc-a9ca-aa8d91748c3a",
   "metadata": {},
   "source": [
    "**%precision 4**  \n",
    "Ограничивает количество выводимых знаково после запятой для float"
   ]
  },
  {
   "cell_type": "code",
   "execution_count": null,
   "id": "2ca7389b-694c-4e04-9895-cbe55030cbb0",
   "metadata": {},
   "outputs": [],
   "source": [
    "%env"
   ]
  }
 ],
 "metadata": {
  "kernelspec": {
   "display_name": "Python 3 (ipykernel)",
   "language": "python",
   "name": "python3"
  },
  "language_info": {
   "codemirror_mode": {
    "name": "ipython",
    "version": 3
   },
   "file_extension": ".py",
   "mimetype": "text/x-python",
   "name": "python",
   "nbconvert_exporter": "python",
   "pygments_lexer": "ipython3",
   "version": "3.9.13"
  }
 },
 "nbformat": 4,
 "nbformat_minor": 5
}
