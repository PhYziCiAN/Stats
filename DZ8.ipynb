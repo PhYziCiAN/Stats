{
 "cells": [
  {
   "cell_type": "markdown",
   "id": "d49c61ad-4798-4022-8fb0-c5927584cd2b",
   "metadata": {
    "tags": []
   },
   "source": [
    "##### 1. Даны значения величины заработной платы заемщиков банка (zp) и значения их поведенческого кредитного скоринга (ks):        <p>zp = [35, 45, 190, 200, 40, 70, 54, 150, 120, 110], <p>ks = [401, 574, 874, 919, 459, 739, 653, 902, 746, 832]. <p>Найдите ковариацию этих двух величин с помощью элементарных действий, а затем с помощью функции cov из numpy. Полученные значения должны быть равны. Найдите коэффициент корреляции Пирсона с помощью ковариации и среднеквадратичных отклонений двух признаков, а затем с использованием функций из библиотек numpy и pandas.    "
   ]
  },
  {
   "cell_type": "code",
   "execution_count": 3,
   "id": "057f9aa9-3f16-4ddf-838b-8cd3fb5c7112",
   "metadata": {},
   "outputs": [],
   "source": [
    "import numpy as np\n",
    "import scipy.stats as stats\n",
    "import statsmodels.stats.api as sms\n",
    "import pandas as pd"
   ]
  },
  {
   "cell_type": "code",
   "execution_count": 5,
   "id": "1a129b3b-6f4f-4049-8df5-3ab2eb54ca6e",
   "metadata": {},
   "outputs": [],
   "source": [
    "zp = np.array([35, 45, 190, 200, 40, 70, 54, 150, 120, 110])\n",
    "ks = np.array([401, 574, 874, 919, 459, 739, 653, 902, 746, 832])\n",
    "df_zp = pd.Series([35, 45, 190, 200, 40, 70, 54, 150, 120, 110])\n",
    "df_ks = pd.Series([401, 574, 874, 919, 459, 739, 653, 902, 746, 832])"
   ]
  },
  {
   "cell_type": "code",
   "execution_count": 80,
   "id": "71d58060-9d01-4574-bc70-7c78f7e3a1c8",
   "metadata": {},
   "outputs": [
    {
     "data": {
      "text/plain": [
       "10175.377777777776"
      ]
     },
     "execution_count": 80,
     "metadata": {},
     "output_type": "execute_result"
    }
   ],
   "source": [
    "# From Elena\n",
    "df = pd.DataFrame({'zp':zp,'ks':ks}, columns = ['zp', 'ks'])\n",
    "df.cov().values[0,1]"
   ]
  },
  {
   "cell_type": "markdown",
   "id": "5c749dcb-35c5-412e-81d9-30e730fb4cce",
   "metadata": {},
   "source": [
    "Ковариация - величина, определяющая зависимость 2 случайных величин<br>\n",
    "$cov_{xy} = M(XY)-M(X)*M(Y)$ <br>\n",
    " \n",
    "$cov_{xy} = \\frac 1 {n-1} * \\sum_{i=1}^n (X_i - \\bar X)(Y_i-\\bar Y) $<br>\n",
    "\n",
    "<br>$r_{xy} = \\frac {cov_{xy}}{\\sigma_x * \\sigma_y}$&ensp;&ensp; коэф.Пирсона"
   ]
  },
  {
   "cell_type": "code",
   "execution_count": 8,
   "id": "6dc1e81f-3e00-4e06-92bd-ce2807604536",
   "metadata": {},
   "outputs": [
    {
     "data": {
      "text/plain": [
       "(9157.839999999997,\n",
       " array([[ 3882.93333333, 10175.37777778],\n",
       "        [10175.37777778, 33854.32222222]]))"
      ]
     },
     "execution_count": 8,
     "metadata": {},
     "output_type": "execute_result"
    }
   ],
   "source": [
    "cov_manual = np.mean(zp*ks)-np.mean(zp)*np.mean(ks)\n",
    "cov = np.cov (zp, ks, ddof=1)\n",
    "cov_manual, cov # здесь удалось получить такое значение как из numpy.  \n",
    "                        # Думаю, что ошибка в начальной формуле."
   ]
  },
  {
   "cell_type": "code",
   "execution_count": 54,
   "id": "bc1c472a-919b-4bb6-8491-583e2e012443",
   "metadata": {},
   "outputs": [
    {
     "data": {
      "text/plain": [
       "10175.377777777776"
      ]
     },
     "execution_count": 54,
     "metadata": {},
     "output_type": "execute_result"
    }
   ],
   "source": [
    "df_ks.cov(df_zp, ddof=1)"
   ]
  },
  {
   "cell_type": "markdown",
   "id": "f494467c-f11e-4066-96b5-332bfc866f56",
   "metadata": {},
   "source": [
    "$ \\frac 1 {n-1} * \\sum_{i=1}^n (X_i - \\bar X)(Y_i-\\bar Y) $"
   ]
  },
  {
   "cell_type": "markdown",
   "id": "09361412-969f-4702-ada2-811669f89f1d",
   "metadata": {
    "tags": []
   },
   "source": [
    "##### 2. Измерены значения IQ выборки студентов, обучающихся в местных технических вузах: <p>131, 125, 115, 122, 131, 115, 107, 99, 125, 111. <p>Известно, что в генеральной совокупности IQ распределен нормально. Найдите доверительный интервал для математического ожидания с надежностью 0.95."
   ]
  },
  {
   "cell_type": "code",
   "execution_count": 61,
   "id": "7d45cda4-3ef9-45a0-be0e-3f8b79662cbf",
   "metadata": {},
   "outputs": [
    {
     "name": "stdout",
     "output_type": "stream",
     "text": [
      "ОТВЕТ: Значение IQ находится в доверительном интервале (110.55608365158724, 125.64391634841274) с надежностью 0.95\n"
     ]
    }
   ],
   "source": [
    "iq = np.array([131, 125, 115, 122, 131, 115, 107, 99, 125, 111])\n",
    "CI = sms.DescrStatsW(iq).tconfint_mean(alpha=0.05, alternative='two-sided')\n",
    "print (f'ОТВЕТ: Значение IQ находится в доверительном интервале {CI} с надежностью 0.95')"
   ]
  },
  {
   "cell_type": "markdown",
   "id": "44a77138-d6df-4730-9db4-10b452bcfd3a",
   "metadata": {
    "tags": []
   },
   "source": [
    "##### 3. Известно, что рост футболистов в сборной распределен нормально с дисперсией генеральной совокупности, равной 25 кв.см. <p>Объем выборки равен 27, среднее выборочное составляет 174.2. <p>Найдите доверительный интервал для математического ожидания с надежностью 0.95."
   ]
  },
  {
   "cell_type": "code",
   "execution_count": 64,
   "id": "44b25021-d1cf-4222-a53b-4a9f5163a6b0",
   "metadata": {},
   "outputs": [
    {
     "data": {
      "text/plain": [
       "5.0"
      ]
     },
     "execution_count": 64,
     "metadata": {},
     "output_type": "execute_result"
    }
   ],
   "source": [
    "D = 25\n",
    "n = 27\n",
    "M = 174.2\n",
    "alpha=0.05\n",
    "SE = D**0.5"
   ]
  },
  {
   "cell_type": "code",
   "execution_count": 68,
   "id": "e47a79da-a2a4-4684-883d-c0b16d7c4d7e",
   "metadata": {},
   "outputs": [
    {
     "data": {
      "text/plain": [
       "1.959963984540054"
      ]
     },
     "execution_count": 68,
     "metadata": {},
     "output_type": "execute_result"
    }
   ],
   "source": [
    "z_table = stats.norm.ppf(0.975)\n",
    "z_table"
   ]
  },
  {
   "cell_type": "markdown",
   "id": "a967ac23-0870-4f75-aeec-9b06f64cfa0d",
   "metadata": {},
   "source": [
    "$CI = $"
   ]
  },
  {
   "cell_type": "code",
   "execution_count": 70,
   "id": "633e6522-a41b-4929-9ad5-b049f2347592",
   "metadata": {},
   "outputs": [],
   "source": [
    "CI = z_table*(SE/n**0.5)"
   ]
  },
  {
   "cell_type": "code",
   "execution_count": 76,
   "id": "db4a37c2-bd5f-4616-a286-8823976a2fe0",
   "metadata": {},
   "outputs": [
    {
     "name": "stdout",
     "output_type": "stream",
     "text": [
      "ANSWER: 95% confidence interval for team height is 172.3140237765397 - 176.08597622346028\n"
     ]
    }
   ],
   "source": [
    "print(f'ANSWER: 95% confidence interval for team height is {M-CI} - {M+CI}')"
   ]
  }
 ],
 "metadata": {
  "kernelspec": {
   "display_name": "Python 3 (ipykernel)",
   "language": "python",
   "name": "python3"
  },
  "language_info": {
   "codemirror_mode": {
    "name": "ipython",
    "version": 3
   },
   "file_extension": ".py",
   "mimetype": "text/x-python",
   "name": "python",
   "nbconvert_exporter": "python",
   "pygments_lexer": "ipython3",
   "version": "3.9.13"
  }
 },
 "nbformat": 4,
 "nbformat_minor": 5
}
