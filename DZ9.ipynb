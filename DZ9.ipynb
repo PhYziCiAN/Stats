{
 "cells": [
  {
   "cell_type": "code",
   "execution_count": 20,
   "id": "35248c38-6936-4798-990b-f2c69a1a30aa",
   "metadata": {},
   "outputs": [],
   "source": [
    "import numpy as np\n",
    "import scipy.stats as stats"
   ]
  },
  {
   "cell_type": "code",
   "execution_count": 5,
   "id": "587c78ea-2af0-4398-b713-4c90761ecb32",
   "metadata": {},
   "outputs": [],
   "source": [
    "s = np.array([27,37,42,48,57,56,77,80])\n",
    "p = np.array([1.2, 1.6, 1.8, 1.8, 2.5, 2.6, 3, 3.3])\n",
    "n = len(s)"
   ]
  },
  {
   "cell_type": "code",
   "execution_count": 7,
   "id": "bfc10154-39df-492b-b500-3b6c8e48b854",
   "metadata": {},
   "outputs": [],
   "source": [
    "b1 = (n*np.sum(p*s) - np.sum(s)*np.sum(p))/(n*np.sum(s**2) - np.sum(s)**2)"
   ]
  },
  {
   "cell_type": "code",
   "execution_count": 8,
   "id": "d924498b-4d7a-4c06-9eb8-3c2c2d76a12f",
   "metadata": {},
   "outputs": [
    {
     "data": {
      "text/plain": [
       "0.03874584717607981"
      ]
     },
     "execution_count": 8,
     "metadata": {},
     "output_type": "execute_result"
    }
   ],
   "source": [
    "b = (np.mean(s*p) - np.mean(s)*np.mean(p))/(np.mean(s**2)-np.mean(s)**2)\n",
    "b"
   ]
  },
  {
   "cell_type": "code",
   "execution_count": 19,
   "id": "6d34b6b7-33bf-4e52-b709-5d656dd26336",
   "metadata": {},
   "outputs": [
    {
     "name": "stdout",
     "output_type": "stream",
     "text": [
      "    Multiple Comparison of Means - Tukey HSD, FWER=0.05     \n",
      "============================================================\n",
      "  group1     group2   meandiff p-adj   lower   upper  reject\n",
      "------------------------------------------------------------\n",
      "accountant     lawyer  11.1429 0.0918 -1.5722 23.8579  False\n",
      "accountant programmer  86.2857    0.0 73.5707 99.0007   True\n",
      "    lawyer programmer  75.1429    0.0 62.4278 87.8579   True\n",
      "------------------------------------------------------------\n"
     ]
    }
   ],
   "source": [
    "from statsmodels.stats.multicomp import pairwise_tukeyhsd\n",
    "import pandas as pd\n",
    "df = pd.DataFrame({'score':[70, 50, 65, 60, 75, 67, 74, 80, 74, 90, 70, 75, 65, 85,148, 142, 140, 150, 160, 170, 155], 'group': np.repeat(['accountant', 'lawyer', 'programmer'], repeats=7)}) \n",
    "tukey = pairwise_tukeyhsd(endog=df['score'], groups=df['group'], alpha=0.05)\n",
    "print(tukey)"
   ]
  },
  {
   "cell_type": "code",
   "execution_count": null,
   "id": "86c21ed3-020c-4d19-85b0-5caf424fa683",
   "metadata": {},
   "outputs": [],
   "source": [
    "f = stats.f_oneway(y1,y2,y3)"
   ]
  }
 ],
 "metadata": {
  "kernelspec": {
   "display_name": "Python 3 (ipykernel)",
   "language": "python",
   "name": "python3"
  },
  "language_info": {
   "codemirror_mode": {
    "name": "ipython",
    "version": 3
   },
   "file_extension": ".py",
   "mimetype": "text/x-python",
   "name": "python",
   "nbconvert_exporter": "python",
   "pygments_lexer": "ipython3",
   "version": "3.9.13"
  }
 },
 "nbformat": 4,
 "nbformat_minor": 5
}
