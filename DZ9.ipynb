{
 "cells": [
  {
   "cell_type": "code",
   "execution_count": 30,
   "id": "35248c38-6936-4798-990b-f2c69a1a30aa",
   "metadata": {},
   "outputs": [],
   "source": [
    "import numpy as np\n",
    "import scipy.stats as stats\n",
    "from scipy.stats import bartlett"
   ]
  },
  {
   "cell_type": "code",
   "execution_count": 5,
   "id": "587c78ea-2af0-4398-b713-4c90761ecb32",
   "metadata": {
    "jupyter": {
     "source_hidden": true
    },
    "tags": []
   },
   "outputs": [],
   "source": [
    "s = np.array([27,37,42,48,57,56,77,80])\n",
    "p = np.array([1.2, 1.6, 1.8, 1.8, 2.5, 2.6, 3, 3.3])\n",
    "n = len(s)"
   ]
  },
  {
   "cell_type": "code",
   "execution_count": 7,
   "id": "bfc10154-39df-492b-b500-3b6c8e48b854",
   "metadata": {},
   "outputs": [],
   "source": [
    "b1 = (n*np.sum(p*s) - np.sum(s)*np.sum(p))/(n*np.sum(s**2) - np.sum(s)**2)"
   ]
  },
  {
   "cell_type": "code",
   "execution_count": 8,
   "id": "d924498b-4d7a-4c06-9eb8-3c2c2d76a12f",
   "metadata": {},
   "outputs": [
    {
     "data": {
      "text/plain": [
       "0.03874584717607981"
      ]
     },
     "execution_count": 8,
     "metadata": {},
     "output_type": "execute_result"
    }
   ],
   "source": [
    "b = (np.mean(s*p) - np.mean(s)*np.mean(p))/(np.mean(s**2)-np.mean(s)**2)\n",
    "b"
   ]
  },
  {
   "cell_type": "code",
   "execution_count": 19,
   "id": "6d34b6b7-33bf-4e52-b709-5d656dd26336",
   "metadata": {},
   "outputs": [
    {
     "name": "stdout",
     "output_type": "stream",
     "text": [
      "    Multiple Comparison of Means - Tukey HSD, FWER=0.05     \n",
      "============================================================\n",
      "  group1     group2   meandiff p-adj   lower   upper  reject\n",
      "------------------------------------------------------------\n",
      "accountant     lawyer  11.1429 0.0918 -1.5722 23.8579  False\n",
      "accountant programmer  86.2857    0.0 73.5707 99.0007   True\n",
      "    lawyer programmer  75.1429    0.0 62.4278 87.8579   True\n",
      "------------------------------------------------------------\n"
     ]
    }
   ],
   "source": [
    "from statsmodels.stats.multicomp import pairwise_tukeyhsd\n",
    "import pandas as pd\n",
    "df = pd.DataFrame({'score':[70, 50, 65, 60, 75, 67, 74, 80, 74, 90, 70, 75, 65, 85,148, 142, 140, 150, 160, 170, 155], 'group': np.repeat(['accountant', 'lawyer', 'programmer'], repeats=7)}) \n",
    "tukey = pairwise_tukeyhsd(endog=df['score'], groups=df['group'], alpha=0.05)\n",
    "print(tukey)"
   ]
  },
  {
   "cell_type": "code",
   "execution_count": null,
   "id": "86c21ed3-020c-4d19-85b0-5caf424fa683",
   "metadata": {},
   "outputs": [],
   "source": [
    "f = stats.f_oneway(y1,y2,y3)"
   ]
  },
  {
   "cell_type": "code",
   "execution_count": null,
   "id": "e236a70b-db23-4e0f-8b88-1e2a0950c41c",
   "metadata": {},
   "outputs": [],
   "source": []
  },
  {
   "cell_type": "code",
   "execution_count": 21,
   "id": "33c056af-bf3a-4415-9c5e-2b2ddd804587",
   "metadata": {},
   "outputs": [],
   "source": [
    "pu_238 = np.array([0.126, 0.133, 0.127, 0.156, 0.503, 0.113, 0.129, 0.124, 1.022, 1.412, 1.533, 1.534, 1.437, 1.439, 1.375, 1.153, 0.201, 0.176, 0.239, 0.102, 1.070, 0.851, 0.125, 0.142, 0.352, 0.351, 0.346, 0.217, 1.068, 1.171, 1.213, 1.226, 1.111, 0.183, 0.162, 0.113, 1.309, 1.638, 1.589, 1.411, 1.457, 0.397, 0.328, 0.242, 1.367])"
   ]
  },
  {
   "cell_type": "code",
   "execution_count": 22,
   "id": "ec859038-4bc3-4e15-9850-f08f9909d407",
   "metadata": {},
   "outputs": [],
   "source": [
    "pu_239 = np.array([75.804, 75.515, 75.175, 78.872, 73.317, 79.116, 75.751, 75.326, 63.287, 59.553, 58.688, 58.758, 59.728, 59.544, 59.877, 61.182, 78.244, 78.166, 74.254, 79.840,  62.455, 73.189, 75.968, 75.957, 72.885,72.907, 72.919, 76.089, 70.129, 69.273, 69.147, 68.294, 71.076, 75.714, 76.150, 77.845, 62.382, 60.112, 60.519, 61.585,   61.332, 72.291, 73.451, 74.888, 60.507])"
   ]
  },
  {
   "cell_type": "code",
   "execution_count": 23,
   "id": "85476415-bcce-483a-9463-b6553bcccf9f",
   "metadata": {},
   "outputs": [],
   "source": [
    "pu_240 = ([21.204, 21.408, 21.668, 18.428, 20.223, 18.548, 21.162, 21.557, 24.493, 25.576, 25.719, 25.692, 25.146, 25.126, 25.128, 25.100, 18.488, 18.629, 21.515, 17.872, 24.656, 18.285,   20.794, 20.867, 21.718, 21.721, 21.713, 20.225, 18.573, 18.633, 18.640, 18.869, 18.122, 20.750, 20.345, 19.108, 22.754, 23.320, 23.128, 23.133, 23.239,  21.761, 21.429, 20.939, 23.603])"
   ]
  },
  {
   "cell_type": "code",
   "execution_count": 24,
   "id": "ef2e3fbd-5589-4ea6-9531-471474f92111",
   "metadata": {},
   "outputs": [],
   "source": [
    "pu_241 =([2.180, 2.240, 2.305, 1.906, 4.128, 1.690, 2.260, 2.282, 6.990, 8.027, 8.279, 8.261, 8.377, 8.569, 8.428, 7.802, 2.351, 2.365, 2.901, 1.674, 7.512,  5.597, 2.407, 2.341, 3.618, 3.601, 3.600, 2.556, 7.689, 8.300, 8.363, 8.826, 7.248, 2.488, 2.524, 2.275, 9.311, 9.972, 9.970, 9.339, 9.321, 3.836, 3.419, 2.875, 9.839])"
   ]
  },
  {
   "cell_type": "code",
   "execution_count": 25,
   "id": "3f66e1e8-ceb9-4832-a47b-ba404ea99fe7",
   "metadata": {},
   "outputs": [
    {
     "data": {
      "text/plain": [
       "45"
      ]
     },
     "execution_count": 25,
     "metadata": {},
     "output_type": "execute_result"
    }
   ],
   "source": [
    "len (pu_238)"
   ]
  },
  {
   "cell_type": "code",
   "execution_count": 26,
   "id": "4f91afc6-49c9-4d4b-a611-90aae4b4d5a2",
   "metadata": {},
   "outputs": [
    {
     "data": {
      "text/plain": [
       "ShapiroResult(statistic=0.8199635744094849, pvalue=6.733238933520624e-06)"
      ]
     },
     "execution_count": 26,
     "metadata": {},
     "output_type": "execute_result"
    }
   ],
   "source": [
    "stats.shapiro(pu_238)"
   ]
  },
  {
   "cell_type": "code",
   "execution_count": 27,
   "id": "771caf5f-7805-4017-b256-69dcc0a8ec20",
   "metadata": {},
   "outputs": [
    {
     "data": {
      "text/plain": [
       "ShapiroResult(statistic=0.8647032380104065, pvalue=8.951310883276165e-05)"
      ]
     },
     "execution_count": 27,
     "metadata": {},
     "output_type": "execute_result"
    }
   ],
   "source": [
    "stats.shapiro(pu_239)"
   ]
  },
  {
   "cell_type": "code",
   "execution_count": 28,
   "id": "3534e77a-fb5c-44d6-afa3-42d5a34b0039",
   "metadata": {},
   "outputs": [
    {
     "data": {
      "text/plain": [
       "ShapiroResult(statistic=0.9316781759262085, pvalue=0.010755813680589199)"
      ]
     },
     "execution_count": 28,
     "metadata": {},
     "output_type": "execute_result"
    }
   ],
   "source": [
    "stats.shapiro(pu_240)"
   ]
  },
  {
   "cell_type": "code",
   "execution_count": 29,
   "id": "78ee7762-fa62-4bc1-9f37-fc448d91fab7",
   "metadata": {},
   "outputs": [
    {
     "data": {
      "text/plain": [
       "ShapiroResult(statistic=0.8336212635040283, pvalue=1.4246789760363754e-05)"
      ]
     },
     "execution_count": 29,
     "metadata": {},
     "output_type": "execute_result"
    }
   ],
   "source": [
    "stats.shapiro(pu_241)"
   ]
  },
  {
   "cell_type": "code",
   "execution_count": 31,
   "id": "ca720321-b9eb-4eaf-8068-e391d3fd443f",
   "metadata": {},
   "outputs": [
    {
     "data": {
      "text/plain": [
       "BartlettResult(statistic=193.1803716617602, pvalue=1.2547805439253745e-41)"
      ]
     },
     "execution_count": 31,
     "metadata": {},
     "output_type": "execute_result"
    }
   ],
   "source": [
    "stats.bartlett(pu_238, pu_239, pu_240, pu_241) # тест на равенство дисперсий при нормальном распределении, если ненормальное то тест Кохрана, тест Левене"
   ]
  },
  {
   "cell_type": "code",
   "execution_count": 32,
   "id": "6ce6cffb-6d4c-42dc-ae2a-aad6674d4a8f",
   "metadata": {},
   "outputs": [
    {
     "data": {
      "text/plain": [
       "KruskalResult(statistic=167.8178522154513, pvalue=3.76478949748032e-36)"
      ]
     },
     "execution_count": 32,
     "metadata": {},
     "output_type": "execute_result"
    }
   ],
   "source": [
    "stats.kruskal(pu_238, pu_239, pu_240, pu_241)"
   ]
  },
  {
   "cell_type": "markdown",
   "id": "a2852dbc-050b-45ae-941c-bf622cec1c69",
   "metadata": {},
   "source": [
    "Даны квартальные прибыли акции Johnson&Johnson с 1960-1980 гг\n",
    "Есть ли различия прибыли между 4-мя кварталами?\n",
    "Провести EDA (проверка на нормальность, проверка на однородность дисперсий с помощью Барлетт теста \n",
    "from scipy.stats import bartlett)\n",
    "Учитывайте при выборе теста тот факт, что при сбалансированных данных (выборки одинакового объема),  \n",
    "неоднородность дисперсий слабо влияет на результат)"
   ]
  },
  {
   "cell_type": "code",
   "execution_count": 33,
   "id": "411d0121-bfb1-469a-b940-6e28efa485c2",
   "metadata": {},
   "outputs": [],
   "source": [
    "JJ_1=np.array([0.71, 0.63, 0.85, 0.44, 0.61, 0.69, 0.92, 0.55, 0.72, 0.77, 0.92, 0.60, 0.83, 0.80, 1.00, 0.77, 0.92, 1.00, 1.24, 1.00, 1.16 ]) \n",
    "JJ_2=np.array([1.30, 1.45, 1.25, 1.26, 1.38, 1.86, 1.56, 1.53, 1.59, 1.83, 1.86, 1.53, 2.07, 2.34, 2.25, 2.16, 2.43, 2.70, 2.25, 2.79, 3.42 ]) \n",
    "JJ_3=np.array([3.69, 3.60, 3.60, 4.32, 4.32, 4.05, 4.86, 5.04, 5.04, 4.41, 5.58, 5.85, 6.57, 5.31, 6.03, 6.39, 6.93, 5.85, 6.93, 7.74, 7.83]) \n",
    "JJ_4=np.array([6.12,  7.74,  8.91,  8.28, 6.84,  9.54, 10.26,  9.54, 8.73, 11.88, 12.06, 12.15, 8.91, 14.04, 12.96, 14.85, 9.99, 16.20, 14.67, 16.02, 11.61])"
   ]
  },
  {
   "cell_type": "code",
   "execution_count": 37,
   "id": "8d9a8ee6-99b8-4110-9cda-9af0ad498983",
   "metadata": {},
   "outputs": [
    {
     "data": {
      "text/plain": [
       "ShapiroResult(statistic=0.9590807557106018, pvalue=0.49780404567718506)"
      ]
     },
     "execution_count": 37,
     "metadata": {},
     "output_type": "execute_result"
    }
   ],
   "source": [
    "stats.shapiro(JJ_4)"
   ]
  },
  {
   "cell_type": "code",
   "execution_count": 40,
   "id": "22da005c-dc7b-4ef2-9051-d9b52754b5bc",
   "metadata": {},
   "outputs": [
    {
     "data": {
      "text/plain": [
       "BartlettResult(statistic=109.62893110687119, pvalue=1.3188378332498392e-23)"
      ]
     },
     "execution_count": 40,
     "metadata": {},
     "output_type": "execute_result"
    }
   ],
   "source": [
    "stats.bartlett(JJ_1, JJ_2, JJ_3, JJ_4) ## неоднородные дисперсии, однако выборки равны, можно применять дисперсионный анализ"
   ]
  },
  {
   "cell_type": "code",
   "execution_count": 39,
   "id": "0dbddfb7-79f2-401e-998e-3bf9d358d8a5",
   "metadata": {},
   "outputs": [
    {
     "data": {
      "text/plain": [
       "F_onewayResult(statistic=162.03157448390618, pvalue=6.81307443530621e-34)"
      ]
     },
     "execution_count": 39,
     "metadata": {},
     "output_type": "execute_result"
    }
   ],
   "source": [
    "f = stats.f_oneway(JJ_1, JJ_2, JJ_3, JJ_4)\n",
    "f"
   ]
  },
  {
   "cell_type": "code",
   "execution_count": 41,
   "id": "0fde4557-3c81-42b1-b059-89c15d1c27ef",
   "metadata": {},
   "outputs": [
    {
     "data": {
      "text/plain": [
       "KruskalResult(statistic=77.04853477998796, pvalue=1.318184789753617e-16)"
      ]
     },
     "execution_count": 41,
     "metadata": {},
     "output_type": "execute_result"
    }
   ],
   "source": [
    "stats.kruskal(JJ_1, JJ_2, JJ_3, JJ_4)"
   ]
  },
  {
   "cell_type": "code",
   "execution_count": null,
   "id": "eaff94bc-f72e-4150-97f5-933cd7c22794",
   "metadata": {},
   "outputs": [],
   "source": [
    "from statsmodels.stats.multicomp import pairwise_tukeyhsd\n",
    "import pandas as pd\n",
    "df=pd.DataFrame({\"score\":[0.71, 0.63, 0.85, 0.44, 0.61, 0.69, 0.92, 0.55, 0.72, 0.77, 0.92, 0.60, 0.83, 0.80, 1.00, 0.77, 0.92, 1.00, 1.24, 1.00, 1.16, 1.30, 1.45, 1.25, 1.26, 1.38, 1.86, 1.56, 1.53, 1.59, 1.83, 1.86, 1.53, 2.07, 2.34, 2.25, 2.16, 2.43, 2.70, 2.25, 2.79, 3.42, 3.69, 3.60, 3.60, 4.32, 4.32, 4.05, 4.86, 5.04, 5.04, 4.41, 5.58, 5.85, 6.57, 5.31, 6.03, 6.39, 6.93, 5.85, 6.93, 7.74,  7.83, 6.12,  7.74,  8.91,  8.28, 6.84,  9.54, 10.26,  9.54, 8.73, 11.88, 12.06, 12.15, 8.91, 14.04, 12.96, 14.85, 9.99, 16.20, 14.67, 16.02, 11.61],  \n",
    "                 \"group\":np.repeat([\"JJ_1\",\"JJ_2\",\"JJ_3\",\"JJ_4\"], repeats =21)})\n",
    "df"
   ]
  },
  {
   "cell_type": "code",
   "execution_count": 48,
   "id": "ef4e462b-cfdd-410d-b7d7-2031f93a82cd",
   "metadata": {},
   "outputs": [
    {
     "name": "stdout",
     "output_type": "stream",
     "text": [
      "Multiple Comparison of Means - Tukey HSD, FWER=0.05 \n",
      "====================================================\n",
      "group1 group2 meandiff p-adj   lower   upper  reject\n",
      "----------------------------------------------------\n",
      "  JJ_1   JJ_2   1.1276 0.1282 -0.2087   2.464  False\n",
      "  JJ_1   JJ_3     4.61    0.0  3.2737  5.9463   True\n",
      "  JJ_1   JJ_4  10.1986    0.0  8.8622 11.5349   True\n",
      "  JJ_2   JJ_3   3.4824    0.0   2.146  4.8187   True\n",
      "  JJ_2   JJ_4    9.071    0.0  7.7346 10.4073   True\n",
      "  JJ_3   JJ_4   5.5886    0.0  4.2522  6.9249   True\n",
      "----------------------------------------------------\n"
     ]
    }
   ],
   "source": [
    "tukey=pairwise_tukeyhsd(df[\"score\"],\n",
    "                        df[\"group\"],\n",
    "                        alpha =0.05)\n",
    "print(tukey)"
   ]
  },
  {
   "cell_type": "markdown",
   "id": "1f540524-bf87-41af-98d6-8a7cab676707",
   "metadata": {},
   "source": [
    "Используйте  alternative='greater‘\n",
    "alternative=‘less‘\n",
    "'two-sided'\n",
    "До 92.8 , 95.6,  92.1, 100.6,  96.2,  92.1,  96.7,  97.6,  97.0,  93.9 \n",
    "После 87.1, 84.1, 81.3, 77.0, 86.0, 82.9, 83.0, 85.5, 85.2, 84.6  \n",
    "Объясните полученные результаты p-value  для каждого случая"
   ]
  },
  {
   "cell_type": "code",
   "execution_count": 51,
   "id": "3cbd54fa-2859-4689-80b5-036cab4b9215",
   "metadata": {},
   "outputs": [],
   "source": [
    "a = np.array([92.8 , 95.6, 92.1, 100.6, 96.2, 92.1, 96.7, 97.6, 97.0, 93.9])\n",
    "b = np.array([87.1, 84.1, 81.3, 77.0, 86.0, 82.9, 83.0, 85.5, 85.2, 84.6])"
   ]
  },
  {
   "cell_type": "code",
   "execution_count": 56,
   "id": "79704302-e352-407d-a9a5-74f5fd71c86f",
   "metadata": {},
   "outputs": [
    {
     "data": {
      "text/plain": [
       "Ttest_relResult(statistic=7.972831441034037, pvalue=0.9999886277862766)"
      ]
     },
     "execution_count": 56,
     "metadata": {},
     "output_type": "execute_result"
    }
   ],
   "source": [
    "stats.ttest_rel(a,b, alternative= \"less\")"
   ]
  },
  {
   "cell_type": "code",
   "execution_count": null,
   "id": "92d77e19-e7be-4c75-a538-9119fbee9432",
   "metadata": {},
   "outputs": [],
   "source": []
  }
 ],
 "metadata": {
  "kernelspec": {
   "display_name": "Python 3 (ipykernel)",
   "language": "python",
   "name": "python3"
  },
  "language_info": {
   "codemirror_mode": {
    "name": "ipython",
    "version": 3
   },
   "file_extension": ".py",
   "mimetype": "text/x-python",
   "name": "python",
   "nbconvert_exporter": "python",
   "pygments_lexer": "ipython3",
   "version": "3.9.13"
  }
 },
 "nbformat": 4,
 "nbformat_minor": 5
}
