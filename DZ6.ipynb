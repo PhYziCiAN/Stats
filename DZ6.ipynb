{
 "cells": [
  {
   "cell_type": "markdown",
   "id": "11792359-dcc8-4831-a34c-113958d691c3",
   "metadata": {},
   "source": [
    "1. Известно, что генеральная совокупность распределена нормально со средним квадратическим отклонением, равным 16.\n",
    "    Найти доверительный интервал для оценки математического ожидания <b>a</b> с надежностью 0.95, если выборочная средняя M = 80, а объем выборки n = 256."
   ]
  },
  {
   "cell_type": "code",
   "execution_count": 26,
   "id": "00c5941b-9fdc-4d2f-a619-b0716dda07d6",
   "metadata": {},
   "outputs": [],
   "source": [
    "from scipy.stats import norm\n",
    "from scipy import stats\n",
    "import numpy as np"
   ]
  },
  {
   "cell_type": "code",
   "execution_count": 36,
   "id": "d77ab8b7-95bd-46d2-b527-8b0a63418649",
   "metadata": {},
   "outputs": [],
   "source": [
    "mean = 80\n",
    "n = 256\n",
    "alpha = 0.05\n",
    "S = 16"
   ]
  },
  {
   "cell_type": "code",
   "execution_count": 9,
   "id": "06eda56b-ca42-4226-b69a-ee6c731424a9",
   "metadata": {},
   "outputs": [
    {
     "data": {
      "text/plain": [
       "-1.9599639845400545"
      ]
     },
     "execution_count": 9,
     "metadata": {},
     "output_type": "execute_result"
    }
   ],
   "source": [
    "z = norm.ppf(0.025)\n",
    "z"
   ]
  },
  {
   "cell_type": "code",
   "execution_count": 18,
   "id": "d813c091-ecf5-4525-954b-8d1058692f71",
   "metadata": {},
   "outputs": [
    {
     "data": {
      "text/plain": [
       "-1.9599639845400545"
      ]
     },
     "execution_count": 18,
     "metadata": {},
     "output_type": "execute_result"
    }
   ],
   "source": [
    "CI = z*(S/n**0.5)\n",
    "CI"
   ]
  },
  {
   "cell_type": "markdown",
   "id": "259618f7-abdc-449b-bb90-0a9e99258045",
   "metadata": {},
   "source": [
    "Ответ: 80 $\\pm$ 1.96, интервал 78.04 - 81.96"
   ]
  },
  {
   "cell_type": "markdown",
   "id": "ac4bca1c-9c3a-4df1-8244-8651ba7a8f42",
   "metadata": {
    "tags": []
   },
   "source": [
    "#### 2. \n",
    "В результате 10 независимых измерений некоторой величины X, выполненных с одинаковой точностью, получены опытные данные:\n",
    "6.9, 6.1, 6.2, 6.8, 7.5, 6.3, 6.4, 6.9, 6.7, 6.1\n",
    "    Предполагая, что результаты измерений подчинены нормальному закону распределения вероятностей,\n",
    "    оценить истинное значение величины X при помощи доверительного интервала, покрывающего это\n",
    "    значение с доверительной вероятностью 0,95."
   ]
  },
  {
   "cell_type": "code",
   "execution_count": 171,
   "id": "305ed839-d7bd-4290-a636-51e3b3fe6549",
   "metadata": {},
   "outputs": [
    {
     "data": {
      "text/plain": [
       "0.4508017549014448"
      ]
     },
     "execution_count": 171,
     "metadata": {},
     "output_type": "execute_result"
    }
   ],
   "source": [
    "x = np.array([6.9, 6.1, 6.2, 6.8, 7.5, 6.3, 6.4, 6.9, 6.7, 6.1])\n",
    "import statsmodels.stats.api as sms\n",
    "alpha = 0.05\n",
    "N =  len(x)\n",
    "SE_ = np.std(x, ddof=1)\n",
    "SE_"
   ]
  },
  {
   "cell_type": "code",
   "execution_count": 172,
   "id": "b268040e-ae48-417d-b0d1-e3edbabaa27a",
   "metadata": {},
   "outputs": [
    {
     "data": {
      "text/plain": [
       "6.590000000000001"
      ]
     },
     "execution_count": 172,
     "metadata": {},
     "output_type": "execute_result"
    }
   ],
   "source": [
    "M = np.mean(x)\n",
    "M"
   ]
  },
  {
   "cell_type": "code",
   "execution_count": 173,
   "id": "efca486e-dfd4-4b66-be79-318b69735d58",
   "metadata": {},
   "outputs": [
    {
     "data": {
      "text/plain": [
       "2.2621571627409915"
      ]
     },
     "execution_count": 173,
     "metadata": {},
     "output_type": "execute_result"
    }
   ],
   "source": [
    "t = stats.t.ppf(0.975, 9)\n",
    "t"
   ]
  },
  {
   "cell_type": "code",
   "execution_count": 174,
   "id": "9c6752b6-bd3a-4b55-aa86-98d1a826a2bb",
   "metadata": {},
   "outputs": [
    {
     "data": {
      "text/plain": [
       "0.3224841485842873"
      ]
     },
     "execution_count": 174,
     "metadata": {},
     "output_type": "execute_result"
    }
   ],
   "source": [
    "conf = t*(SE_/(N**0.5))\n",
    "conf"
   ]
  },
  {
   "cell_type": "code",
   "execution_count": 175,
   "id": "f1795027-9392-4600-890b-111fd952e0a1",
   "metadata": {},
   "outputs": [
    {
     "data": {
      "text/plain": [
       "6.590000000000001"
      ]
     },
     "execution_count": 175,
     "metadata": {},
     "output_type": "execute_result"
    }
   ],
   "source": [
    "M"
   ]
  },
  {
   "cell_type": "code",
   "execution_count": null,
   "id": "6e64028f-67e3-41bd-ade9-7565bcb4ae02",
   "metadata": {},
   "outputs": [],
   "source": [
    "# cutoff = stats.t.interval(0.9, N-1, loc = M, scale = SE_)\n",
    "# print (f'Значение X находится в интервале {cutoff}')"
   ]
  },
  {
   "cell_type": "code",
   "execution_count": 177,
   "id": "1457421f-1426-43c9-ba4d-5e5f580a5bfb",
   "metadata": {},
   "outputs": [
    {
     "name": "stdout",
     "output_type": "stream",
     "text": [
      "Значение X находится в интервале (6.267515851415713, 6.912484148584288)\n"
     ]
    }
   ],
   "source": [
    "CI = sms.DescrStatsW(x).tconfint_mean(alpha=0.05, alternative='two-sided')\n",
    "print (f'Значение X находится в интервале {CI}')"
   ]
  },
  {
   "cell_type": "markdown",
   "id": "62c32b91-ed4f-4590-81a6-344b54d0b649",
   "metadata": {
    "tags": []
   },
   "source": [
    "#### 3.\n",
    "Рост дочерей 175, 167, 154, 174, 178, 148, 160, 167, 169, 170<br>\n",
    "Рост матерей 178, 165, 165, 173, 168, 155, 160, 164, 178, 175<br>\n",
    "Используя эти данные построить 95% доверительный интервал для разности среднего роста родителей и детей."
   ]
  },
  {
   "cell_type": "code",
   "execution_count": 72,
   "id": "d7ff0958-c6e2-4c1a-be95-103c156ef386",
   "metadata": {},
   "outputs": [],
   "source": [
    "mother_height = np.array([178, 165, 165, 173, 168, 155, 160, 164, 178, 175])\n",
    "daughter_height = np.array([175, 167, 154, 174, 178, 148, 160, 167, 169, 170])"
   ]
  },
  {
   "cell_type": "code",
   "execution_count": 86,
   "id": "945b1e4a-5310-4c08-a55b-c1f00a57c610",
   "metadata": {},
   "outputs": [
    {
     "data": {
      "text/plain": [
       "(168.1, 166.2)"
      ]
     },
     "execution_count": 86,
     "metadata": {},
     "output_type": "execute_result"
    }
   ],
   "source": [
    "Mm = np.mean(mother_height)\n",
    "Md = np.mean(daughter_height)\n",
    "Mm, Md"
   ]
  },
  {
   "cell_type": "code",
   "execution_count": 105,
   "id": "dbb45720-5f80-4e08-88ca-f2e2ef69c326",
   "metadata": {},
   "outputs": [
    {
     "data": {
      "text/plain": [
       "1.9000000000000057"
      ]
     },
     "execution_count": 105,
     "metadata": {},
     "output_type": "execute_result"
    }
   ],
   "source": [
    "delta_mean = Mm-Md\n",
    "delta_mean"
   ]
  },
  {
   "cell_type": "code",
   "execution_count": 104,
   "id": "968a4b17-cec5-4f05-bbde-cf9662e0d247",
   "metadata": {},
   "outputs": [
    {
     "data": {
      "text/plain": [
       "(60.10000000000001, 91.06666666666666, 75.58333333333334)"
      ]
     },
     "execution_count": 104,
     "metadata": {},
     "output_type": "execute_result"
    }
   ],
   "source": [
    "Dm = np.var(mother_height, ddof=1)\n",
    "Dd = np.var(daughter_height, ddof=1)\n",
    "Delta = (Dm + Dd)/2\n",
    "Dm, Dd, Delta"
   ]
  },
  {
   "cell_type": "code",
   "execution_count": 123,
   "id": "8f9311a1-14dc-431a-8ad0-5e0b40eeaa1c",
   "metadata": {},
   "outputs": [
    {
     "data": {
      "text/plain": [
       "3.8880157750022915"
      ]
     },
     "execution_count": 123,
     "metadata": {},
     "output_type": "execute_result"
    }
   ],
   "source": [
    "SE = (Delta/10+Delta/10)**0.5\n",
    "SE"
   ]
  },
  {
   "cell_type": "code",
   "execution_count": 122,
   "id": "e8a7a0ce-af77-4582-b19c-0cea25aa9512",
   "metadata": {},
   "outputs": [
    {
     "data": {
      "text/plain": [
       "2.10092204024096"
      ]
     },
     "execution_count": 122,
     "metadata": {},
     "output_type": "execute_result"
    }
   ],
   "source": [
    "t = stats.t.ppf (0.975, 18)\n",
    "t"
   ]
  },
  {
   "cell_type": "code",
   "execution_count": 124,
   "id": "b9257207-7e33-42d8-a40d-f30539af4257",
   "metadata": {},
   "outputs": [
    {
     "name": "stdout",
     "output_type": "stream",
     "text": [
      "8.168418034506852\n"
     ]
    }
   ],
   "source": [
    "print (t*SE)"
   ]
  },
  {
   "cell_type": "code",
   "execution_count": 125,
   "id": "a2cec135-8946-4634-b812-c88a18c77a35",
   "metadata": {},
   "outputs": [
    {
     "data": {
      "text/plain": [
       "(-6.268418034506846, 10.068418034506857)"
      ]
     },
     "execution_count": 125,
     "metadata": {},
     "output_type": "execute_result"
    }
   ],
   "source": [
    "cutoff = stats.t.interval(0.95, 18, loc = delta_mean, scale = SE)\n",
    "cutoff"
   ]
  },
  {
   "cell_type": "markdown",
   "id": "b5a98925-5329-471e-808f-774fa0a296b1",
   "metadata": {},
   "source": [
    "1.9 $\\pm$ 8.16"
   ]
  },
  {
   "cell_type": "code",
   "execution_count": null,
   "id": "2fdcf990-a73b-4a01-9503-90ff9df570ac",
   "metadata": {},
   "outputs": [],
   "source": []
  }
 ],
 "metadata": {
  "kernelspec": {
   "display_name": "Python 3 (ipykernel)",
   "language": "python",
   "name": "python3"
  },
  "language_info": {
   "codemirror_mode": {
    "name": "ipython",
    "version": 3
   },
   "file_extension": ".py",
   "mimetype": "text/x-python",
   "name": "python",
   "nbconvert_exporter": "python",
   "pygments_lexer": "ipython3",
   "version": "3.9.13"
  }
 },
 "nbformat": 4,
 "nbformat_minor": 5
}
