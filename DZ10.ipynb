{
 "cells": [
  {
   "cell_type": "code",
   "execution_count": 1,
   "id": "45647d33-c0dc-4ed8-944a-645e7e350879",
   "metadata": {},
   "outputs": [],
   "source": [
    "import numpy as np\n",
    "import scipy.stats as stats\n",
    "from scipy.stats import bartlett"
   ]
  },
  {
   "cell_type": "markdown",
   "id": "5fa86fe7-d9e5-43d1-8c99-d9fdf3791178",
   "metadata": {},
   "source": [
    "**Задача:**<br>\n",
    "Провести дисперсионный анализ для определения того, есть ли различия среднего роста среди взрослых футболистов, хоккеистов и штангистов. Даны значения роста в трех группах случайно выбранных спортсменов: Футболисты: **173, 175, 180, 178, 177, 185, 183, 182**. Хоккеисты: **177, 179, 180, 188, 177, 172, 171, 184, 180**. Штангисты: **172, 173, 169, 177, 166, 180, 178, 177, 172, 166, 170**."
   ]
  },
  {
   "cell_type": "code",
   "execution_count": 2,
   "id": "c01b588d-93a6-4fa2-8d43-6187594658c7",
   "metadata": {},
   "outputs": [],
   "source": [
    "footb = np.array([173, 175, 180, 178, 177, 185, 183, 182])\n",
    "hockey = np.array([177, 179, 180, 188, 177, 172, 171, 184, 180])\n",
    "w_lift = np.array([172, 173, 169, 177, 166, 180, 178, 177, 172, 166, 170])"
   ]
  },
  {
   "cell_type": "code",
   "execution_count": 15,
   "id": "bf447856-aa43-471e-bcef-9302ba98fac3",
   "metadata": {},
   "outputs": [
    {
     "name": "stdout",
     "output_type": "stream",
     "text": [
      "Sample size:\n",
      " football- 8\n",
      " hockey-   9\n",
      " w_lift-  11\n"
     ]
    }
   ],
   "source": [
    "print (f'Sample size:\\n football- {len(footb)}\\n hockey-   {len(hockey)}\\n w_lift-  {len(w_lift)}')"
   ]
  },
  {
   "cell_type": "code",
   "execution_count": 24,
   "id": "e02e1bf1-e1b2-40f0-92b9-b7601dfa42b2",
   "metadata": {},
   "outputs": [
    {
     "name": "stdout",
     "output_type": "stream",
     "text": [
      "ShapiroResult(statistic=0.9775082468986511, pvalue=0.9495404362678528)\n",
      "ShapiroResult(statistic=0.9579196572303772, pvalue=0.7763139009475708)\n",
      "ShapiroResult(statistic=0.9386808276176453, pvalue=0.5051165223121643)\n"
     ]
    }
   ],
   "source": [
    "def normality(n):\n",
    "    print(stats.shapiro(n))\n",
    "normality(footb)\n",
    "normality(hockey)\n",
    "normality(w_lift)"
   ]
  },
  {
   "cell_type": "markdown",
   "id": "72dd6318-0482-4766-8c00-543a9409f4ad",
   "metadata": {},
   "source": [
    "**Учитывая разную длину выборок и ненормальность распределений. Нужны непараметрические тесты.**"
   ]
  },
  {
   "cell_type": "code",
   "execution_count": 25,
   "id": "9805f753-989b-497b-b085-79ecede51c1a",
   "metadata": {},
   "outputs": [
    {
     "data": {
      "text/plain": [
       "KruskalResult(statistic=7.897493213863828, pvalue=0.01927885061595347)"
      ]
     },
     "execution_count": 25,
     "metadata": {},
     "output_type": "execute_result"
    }
   ],
   "source": [
    "stats.kruskal(footb, hockey, w_lift)"
   ]
  },
  {
   "cell_type": "markdown",
   "id": "e9a90680-8e08-4f45-9eaa-d24935e6c435",
   "metadata": {},
   "source": [
    "**ОТВЕТ**: <u>учитывая, что pvalue равно 0.019 (1,9%), при alpha = 5% между группами наблюдаются значимые различия.</u>"
   ]
  },
  {
   "cell_type": "markdown",
   "id": "13f6afda-6d84-46d5-9576-9caf88d9bc2c",
   "metadata": {},
   "source": [
    "<a href=\"https://github.com/PhYziCiAN/Stats.git\" title=\"My GitHub\">ссылка на GiHub</a>"
   ]
  }
 ],
 "metadata": {
  "kernelspec": {
   "display_name": "Python 3 (ipykernel)",
   "language": "python",
   "name": "python3"
  },
  "language_info": {
   "codemirror_mode": {
    "name": "ipython",
    "version": 3
   },
   "file_extension": ".py",
   "mimetype": "text/x-python",
   "name": "python",
   "nbconvert_exporter": "python",
   "pygments_lexer": "ipython3",
   "version": "3.9.13"
  }
 },
 "nbformat": 4,
 "nbformat_minor": 5
}
