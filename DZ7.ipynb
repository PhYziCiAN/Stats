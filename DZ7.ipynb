{
 "cells": [
  {
   "cell_type": "markdown",
   "id": "9350d8a6-cbbf-40af-9a41-0d332853218c",
   "metadata": {
    "tags": []
   },
   "source": [
    "#### 1. Даны две независимые выборки. Не соблюдается условие нормальности\n",
    "    x1 380,420, 290\n",
    "    y1 140,360,200,900\n",
    "<p>Сделайте вывод по результатам, полученным с помощью функции"
   ]
  },
  {
   "cell_type": "code",
   "execution_count": 4,
   "id": "d05b4524-4418-4131-b044-48cf3279cb10",
   "metadata": {},
   "outputs": [],
   "source": [
    "import numpy as np\n",
    "import scipy.stats as stats"
   ]
  },
  {
   "cell_type": "code",
   "execution_count": 2,
   "id": "ab71c5b2-8858-4fae-be18-3b00ac0bf698",
   "metadata": {},
   "outputs": [
    {
     "data": {
      "text/plain": [
       "MannwhitneyuResult(statistic=8.0, pvalue=0.6285714285714286)"
      ]
     },
     "execution_count": 2,
     "metadata": {},
     "output_type": "execute_result"
    }
   ],
   "source": [
    "x1 =  380, 420, 290\n",
    "y1 =  140, 360, 200, 900\n",
    "stats.mannwhitneyu(x1, y1)"
   ]
  },
  {
   "cell_type": "markdown",
   "id": "a10c52bf-32f3-47d3-a324-588dc35da0da",
   "metadata": {},
   "source": [
    "<b>Вывод: статистически значимых различий между выборками нет."
   ]
  },
  {
   "cell_type": "markdown",
   "id": "1b30c27a-0377-4e48-b5c9-6e35625d5c2a",
   "metadata": {
    "jp-MarkdownHeadingCollapsed": true,
    "tags": []
   },
   "source": [
    "#### 2. Исследовалось влияние препарата на уровень давления пациентов. Сначала измерялось давление до приема препарата, потом через 10 минут и через 30 минут. Есть ли статистически значимые различия?\n",
    "    1е измерение до приема препарата: 150, 160, 165, 145, 155\n",
    "    2е измерение через 10 минут: 140, 155, 150, 130, 135\n",
    "    3е измерение через 30 минут: 130, 130, 120, 130, 125"
   ]
  },
  {
   "cell_type": "code",
   "execution_count": 7,
   "id": "fa9bf73d-6954-453a-8c53-09175ab3e3a5",
   "metadata": {},
   "outputs": [
    {
     "name": "stdout",
     "output_type": "stream",
     "text": [
      "FriedmanStat: 9.579, pvalue: 0.008\n"
     ]
    }
   ],
   "source": [
    "before = 150, 160, 165, 145, 155\n",
    "ten = 140, 155, 150, 130, 135\n",
    "thirty = 130, 130, 120, 130, 125\n",
    "statisitic, pvalue = stats.friedmanchisquare(before, ten, thirty)\n",
    "print(f'FriedmanStat: {statisitic:.3f}, pvalue: {pvalue:.3f}')"
   ]
  },
  {
   "cell_type": "markdown",
   "id": "c3156671-7e1b-48ca-b3c2-527f5ecd4e3a",
   "metadata": {},
   "source": [
    "<b>Вывод: статистически значимые различия после приема препарата есть."
   ]
  },
  {
   "cell_type": "markdown",
   "id": "3ad6045b-1b41-4a17-a197-84e0fb11a9a0",
   "metadata": {
    "jp-MarkdownHeadingCollapsed": true,
    "tags": []
   },
   "source": [
    "#### 3. Сравните 1 и 2 е измерения, предполагая, что 3го измерения через 30 минут не было."
   ]
  },
  {
   "cell_type": "code",
   "execution_count": 8,
   "id": "9d57ea41-895e-44c5-b366-c79f74b95c9e",
   "metadata": {},
   "outputs": [
    {
     "data": {
      "text/plain": [
       "WilcoxonResult(statistic=0.0, pvalue=0.0625)"
      ]
     },
     "execution_count": 8,
     "metadata": {},
     "output_type": "execute_result"
    }
   ],
   "source": [
    "stats.wilcoxon (before, ten)"
   ]
  },
  {
   "cell_type": "markdown",
   "id": "72ffad00-a44e-4213-a7cb-1baba31eb3dc",
   "metadata": {},
   "source": [
    "<b>Вывод: статистически значимых различий после приема препарата нет (при $\\alpha = 5%$%)."
   ]
  },
  {
   "cell_type": "markdown",
   "id": "cea509fb-eaa9-4664-a3c7-56c08f6a56ac",
   "metadata": {
    "tags": []
   },
   "source": [
    "#### 4. Даны 3 группы учеников плавания.\n",
    "    В 1 группе время на дистанцию 50 м составляют: 56, 60, 62, 55, 71, 67, 59, 58, 64, 67\n",
    "    Вторая группа : 57, 58, 69, 48, 72, 70, 68, 71, 50, 53\n",
    "    Третья группа: 57, 67, 49, 48, 47, 55, 66, 51, 54"
   ]
  },
  {
   "cell_type": "code",
   "execution_count": 5,
   "id": "bbcd5a20-7a91-4854-9fec-7e871c842c41",
   "metadata": {
    "tags": []
   },
   "outputs": [
    {
     "data": {
      "text/plain": [
       "KruskalResult(statistic=5.465564058257224, pvalue=0.0650380998590494)"
      ]
     },
     "execution_count": 5,
     "metadata": {},
     "output_type": "execute_result"
    }
   ],
   "source": [
    "gr1 = 56, 60, 62, 55, 71, 67, 59, 58, 64, 67\n",
    "gr2 = 57, 58, 69, 48, 72, 70, 68, 71, 50, 53\n",
    "gr3 = 57, 67, 49, 48, 47, 55, 66, 51, 54\n",
    "stats.kruskal(gr1, gr2, gr3)"
   ]
  },
  {
   "cell_type": "markdown",
   "id": "43df0832-d10e-4c0a-9cc7-8805df38c132",
   "metadata": {},
   "source": [
    "<b>Вывод: статистически значимых различий в группах нет (при $\\alpha = 5$%)."
   ]
  },
  {
   "cell_type": "markdown",
   "id": "f135845f-b2b8-43fe-9ace-f4cabc58d1d3",
   "metadata": {
    "jp-MarkdownHeadingCollapsed": true,
    "tags": []
   },
   "source": [
    "#### 5. Заявляется, что партия изготавливается со средним арифметическим 2,5 см. Проверить данную гипотезу, если известно, что размеры изделий подчинены нормальному закону распределения. Объем выборки 10, уровень статистической значимости 5%\n",
    "    2.51, 2.35, 2.74, 2.56, 2.40, 2.36, 2.65, 2.7, 2.67, 2.34"
   ]
  },
  {
   "cell_type": "markdown",
   "id": "847113cc-5f5d-4afe-8d18-aff52a5ea2b2",
   "metadata": {
    "tags": []
   },
   "source": [
    "$n = 10$ <br>\n",
    "$\\bar x = 2.53$ <br>\n",
    "$S^2 = \\frac{(2.51-2.53)^2+(2.35-2.53)^2+(2.74-2.53)^2+(2.56-2.53)+(2.40-2.53)^2\n",
    "+(2.36-2.53)^2+(2.65-2.53)^2+(2.7-2.53)+(2.67-2.53)+(2.34-2.53)^2}{10-1} = \\frac {0.02226}{9} = 0.0247$ <br>\n",
    "$\\sigma = 0.157$ <br>\n",
    "$\\bar x - \\mu = 0.03$ <br>\n",
    "$Z_{расч} = 0.03/(0.157/\\sqrt 10)=0.6$ <br>\n",
    "При $\\alpha = 5$% правая граница Z-критерия 1.65, значит расчетное значение будет располагаться левее.<br>\n",
    "#### Вывод: исходная (нулевая) гипотеза верна."
   ]
  }
 ],
 "metadata": {
  "kernelspec": {
   "display_name": "Python 3 (ipykernel)",
   "language": "python",
   "name": "python3"
  },
  "language_info": {
   "codemirror_mode": {
    "name": "ipython",
    "version": 3
   },
   "file_extension": ".py",
   "mimetype": "text/x-python",
   "name": "python",
   "nbconvert_exporter": "python",
   "pygments_lexer": "ipython3",
   "version": "3.9.13"
  }
 },
 "nbformat": 4,
 "nbformat_minor": 5
}
