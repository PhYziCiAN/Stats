{
 "cells": [
  {
   "cell_type": "markdown",
   "id": "b3d10431-2fee-4154-81af-d26c257384b5",
   "metadata": {
    "tags": []
   },
   "source": [
    "<p style=\"text-align:center;font-size:25px;\">Правило 3 сигм</p><br>\n",
    "\n",
    "   |$-3\\sigma$|$-2\\sigma$|$-1\\sigma$| $0$ | $1\\sigma$ | $2\\sigma$ | $3\\sigma$ |    -|   - |  -|\n",
    "   |---|---|---|---|----------|----------|----------|--------------------------|---|---|\n",
    "   |    0.13%   |   2.3%     |   15.9%    |    50%    |   84.1%   |  97.7%    |   99.86%  |  -  |-  | -  |\n",
    "   |            |            |   ----     |    68%    | ----      |           |           |     |   |   |\n",
    "   |            |   ----     |   ----     |   95.4%   | ----      |  -----    |           |     |   |   |\n",
    "   |    -----   |   ----     |   ----     |   99.73%  | ----      |  -----    |  -----    |     |   |   |"
   ]
  },
  {
   "cell_type": "markdown",
   "id": "48ac5ca4-4a25-403d-af58-89f8ce98cf47",
   "metadata": {},
   "source": [
    "**КОМБИНАТОРИКА:**<br>\n",
    ">**нет одинаковых элементов:**\n",
    "- сочетание (порядок не имеет значения) &emsp;&emsp; $C^{k}_{n}= \\frac{n!}{k!*(n-k)!}$<br>\n",
    "\n",
    "- размещение (порядок важен,не все) &emsp;&emsp;&emsp;&emsp;&emsp;&emsp; $A^{k}_{n}= \\frac{n!}{(n-k)!}$<br>\n",
    "\n",
    "- перестановка (порядок имеет значение, все) &emsp;&emsp; $P_{n}= {n!}$<br><br>\n",
    "\n",
    "\n",
    ">**есть одинаковые элементы (с повторениями):**\n",
    "- сочетание (порядок не имеет значения) &emsp;&emsp; $C^{k}_{n}= C^{k}_{n+k-1}=\\frac{(k+n-1)!}{k!*(n-1)!}$<br>\n",
    "\n",
    "- размещение (порядок важен) &emsp;&emsp;&emsp;&emsp;&emsp;&emsp; $A^{k}_{n}= n^k$<br>\n",
    "\n",
    "- перестановка (порядок имеет значение) &emsp;&emsp; $P_{n(n_1,n_2,\\dots,n_k)}= \\frac{n!}{n_1! *n_2!*\\dots n_k!}$, где $n = n1+n2+n_k$<br>\n"
   ]
  },
  {
   "cell_type": "markdown",
   "id": "6926495b-755f-4479-94b5-2be8bf7bd1ca",
   "metadata": {},
   "source": [
    "<div style=\"font-family:Papyrus;text-align:center;color:orange;font-size:35px;\">\n",
    "LaTex\n",
    "</div>\n",
    "$A\\cap B = {A} \\,and\\, {B} = A*B$<br>\n",
    "$A\\cup B = A \\,or\\, B = A+B$<br>\n",
    "$a\\div b$<br>\n",
    "$\\neg A$<br>\n",
    "&emsp;&emsp; $a \\leq b$ &emsp;&emsp; $a \\geq b$ &emsp;&emsp; $a+b\\approx c$ &emsp;&emsp; $a \\ne b$ &emsp;&emsp; $a \\simeq a_1$<br>\n",
    "$\\overline {AB}$<br>\n",
    "$\\sqrt[3]{\\frac {x}{y}}$<br>"
   ]
  },
  {
   "cell_type": "code",
   "execution_count": null,
   "id": "45d62191-c623-4757-ad77-b310fdfa6117",
   "metadata": {},
   "outputs": [],
   "source": []
  }
 ],
 "metadata": {
  "kernelspec": {
   "display_name": "Python 3 (ipykernel)",
   "language": "python",
   "name": "python3"
  },
  "language_info": {
   "codemirror_mode": {
    "name": "ipython",
    "version": 3
   },
   "file_extension": ".py",
   "mimetype": "text/x-python",
   "name": "python",
   "nbconvert_exporter": "python",
   "pygments_lexer": "ipython3",
   "version": "3.9.13"
  }
 },
 "nbformat": 4,
 "nbformat_minor": 5
}
