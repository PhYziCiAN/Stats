{
 "cells": [
  {
   "cell_type": "markdown",
   "id": "f842d414-818c-496f-87c7-13ced0d44c6c",
   "metadata": {
    "tags": []
   },
   "source": [
    "### GAMES"
   ]
  },
  {
   "cell_type": "code",
   "execution_count": 2,
   "id": "c4b0ffac-3f05-4954-bded-d24276c890ef",
   "metadata": {
    "tags": []
   },
   "outputs": [],
   "source": [
    "from scipy.stats import norm\n",
    "from scipy import stats\n",
    "import numpy as np\n",
    "import matplotlib.pyplot as plt\n",
    "import pandas as pd"
   ]
  },
  {
   "cell_type": "code",
   "execution_count": 91,
   "id": "d99dd69d-525d-44d4-8726-8ef826ff0c35",
   "metadata": {},
   "outputs": [
    {
     "data": {
      "text/plain": [
       "-3.2498355440153697"
      ]
     },
     "execution_count": 91,
     "metadata": {},
     "output_type": "execute_result"
    }
   ],
   "source": [
    "stats.t.ppf(0.005, 9)"
   ]
  },
  {
   "cell_type": "code",
   "execution_count": 80,
   "id": "d40c3f9f-f560-498f-8e27-669cef9b5379",
   "metadata": {},
   "outputs": [],
   "source": [
    "y = math.sqrt(10)"
   ]
  },
  {
   "cell_type": "code",
   "execution_count": 81,
   "id": "6883b4b4-3db8-4a31-bb01-cd98b0771ef6",
   "metadata": {},
   "outputs": [
    {
     "data": {
      "text/plain": [
       "3.1622776601683795"
      ]
     },
     "execution_count": 81,
     "metadata": {},
     "output_type": "execute_result"
    }
   ],
   "source": [
    "y"
   ]
  },
  {
   "cell_type": "code",
   "execution_count": 29,
   "id": "233bbbdb-fd1f-4cf5-921e-b54f69aa5afc",
   "metadata": {},
   "outputs": [
    {
     "data": {
      "text/plain": [
       "0.3566478564099676"
      ]
     },
     "execution_count": 29,
     "metadata": {},
     "output_type": "execute_result"
    }
   ],
   "source": [
    "1.5/(13.3/x)"
   ]
  },
  {
   "cell_type": "markdown",
   "id": "be2d05ca-7c89-4de0-be71-42a58d596237",
   "metadata": {
    "tags": []
   },
   "source": [
    "### ПРОБЛЕМНАЯ ЗАДАЧА"
   ]
  },
  {
   "cell_type": "code",
   "execution_count": 69,
   "id": "2f0a92b0-a389-42eb-9592-424a25dec8c2",
   "metadata": {},
   "outputs": [],
   "source": [
    "m = 200\n",
    "n = 10\n",
    "x = np.array([202, 203, 199, 197, 195, 201, 200, 204, 194, 190])"
   ]
  },
  {
   "cell_type": "code",
   "execution_count": 67,
   "id": "d9c99e83-a26f-44e6-b548-540efc354cef",
   "metadata": {},
   "outputs": [
    {
     "name": "stdout",
     "output_type": "stream",
     "text": [
      "[4, 9, 1, 9, 25, 1, 0, 16, 36, 100]\n"
     ]
    },
    {
     "data": {
      "text/plain": [
       "201"
      ]
     },
     "execution_count": 67,
     "metadata": {},
     "output_type": "execute_result"
    }
   ],
   "source": [
    "w = [(x-m)**2 for x in x]\n",
    "print(w)\n",
    "numerator = sum(w)\n",
    "numerator"
   ]
  },
  {
   "cell_type": "code",
   "execution_count": 70,
   "id": "d18924a4-c444-48b1-bb3f-9bdf3c59ddaf",
   "metadata": {},
   "outputs": [
    {
     "data": {
      "text/plain": [
       "22.333333333333332"
      ]
     },
     "execution_count": 70,
     "metadata": {},
     "output_type": "execute_result"
    }
   ],
   "source": [
    "D = numerator/(n-1) # вручную расчитанная дисперсия\n",
    "D"
   ]
  },
  {
   "cell_type": "code",
   "execution_count": 71,
   "id": "12ab53c8-5fdd-4f37-8f45-6ade05b3f7fa",
   "metadata": {},
   "outputs": [
    {
     "data": {
      "text/plain": [
       "4.725815626252608"
      ]
     },
     "execution_count": 71,
     "metadata": {},
     "output_type": "execute_result"
    }
   ],
   "source": [
    "SE = D**0.5\n",
    "SE"
   ]
  },
  {
   "cell_type": "code",
   "execution_count": 79,
   "id": "307b3f33-e907-4f24-aeb1-470d7d0a85c0",
   "metadata": {},
   "outputs": [
    {
     "data": {
      "text/plain": [
       "(19.833333333333332, 4.725815626252608, 22.3125, 4.453463071962462)"
      ]
     },
     "execution_count": 79,
     "metadata": {},
     "output_type": "execute_result"
    }
   ],
   "source": [
    "disp = np.var(x,ddof=1)\n",
    "disp1 = np.var(x,ddof=2)\n",
    "SE1 = disp**0.5\n",
    "SE2 = disp1**0.5\n",
    "disp, SE, disp1, SE1"
   ]
  },
  {
   "cell_type": "code",
   "execution_count": 77,
   "id": "73773342-314c-4ecc-9ad9-630480264c84",
   "metadata": {},
   "outputs": [
    {
     "data": {
      "text/plain": [
       "Ttest_1sampResult(statistic=-1.0651074037450894, pvalue=0.31456660352472854)"
      ]
     },
     "execution_count": 77,
     "metadata": {},
     "output_type": "execute_result"
    }
   ],
   "source": [
    "stats.ttest_1samp(x, m)"
   ]
  },
  {
   "cell_type": "markdown",
   "id": "35d23de3-fc21-4201-84a1-0a036eeeee11",
   "metadata": {
    "tags": []
   },
   "source": [
    "### Задача (семинар 8)\n",
    "a = np.array([12, 10, 11, 19, 13, 11, 17, 15, 19, 14, 21, 18, 21, 11, 17, 14, 15, 17, 20, 19])<br>\n",
    "b = np.array([11, 13, 18, 15, 17, 18, 10, 21, 26, 15, 11, 12, 15, 17, 10, 18, 18, 12,21, 20])<br>\n",
    "*Провести двусторонний тест и ответить на вопрос, есть ли статистически значимые различия между средними 2х нормально распределенных генеральных совокупностей, представленных следующими независимыми выборками.<br>\n",
    "**Уровень статистической значимости принять за 5%. Используйте функцию в Python.**"
   ]
  },
  {
   "cell_type": "code",
   "execution_count": 3,
   "id": "e93592bd-1fac-4781-bf6e-8ea859f960b2",
   "metadata": {},
   "outputs": [],
   "source": [
    "a = np.array([12, 10, 11, 19, 13, 11, 17, 15, 19, 14, 21, 18, 21, 11, 17, 14, 15, 17, 20, 19])\n",
    "\n",
    "b = np.array([11, 13, 18, 15, 17, 18, 10, 21, 26, 15, 11, 12, 15, 17, 10, 18, 18, 12,21, 20])"
   ]
  },
  {
   "cell_type": "code",
   "execution_count": 4,
   "id": "2cfd8a38-376d-43bb-b6d5-c1c9edb088a9",
   "metadata": {},
   "outputs": [
    {
     "data": {
      "text/plain": [
       "Ttest_indResult(statistic=-0.1599663264228627, pvalue=0.8737549039369696)"
      ]
     },
     "execution_count": 4,
     "metadata": {},
     "output_type": "execute_result"
    }
   ],
   "source": [
    "stats.ttest_ind(a, b)"
   ]
  },
  {
   "cell_type": "code",
   "execution_count": 7,
   "id": "a66eca71-05af-4dd2-a2b0-a29540276df0",
   "metadata": {},
   "outputs": [
    {
     "data": {
      "text/plain": [
       "-2.0243941645751367"
      ]
     },
     "execution_count": 7,
     "metadata": {},
     "output_type": "execute_result"
    }
   ],
   "source": [
    "stats.t.ppf(0.025, 38) # t-расчетное для ddof= 2*(n-1)= 38"
   ]
  },
  {
   "cell_type": "code",
   "execution_count": 10,
   "id": "bb775416-e403-41c4-a53e-ce61f033089d",
   "metadata": {},
   "outputs": [
    {
     "data": {
      "text/plain": [
       "0.4368774519684848"
      ]
     },
     "execution_count": 10,
     "metadata": {},
     "output_type": "execute_result"
    }
   ],
   "source": [
    "stats.t.cdf(-0.1599663264228627, 38) ## площадь кривой нормального распределения ниже левой границы"
   ]
  },
  {
   "cell_type": "code",
   "execution_count": 12,
   "id": "84f7588e-1f56-4fba-a079-527192396314",
   "metadata": {},
   "outputs": [
    {
     "data": {
      "text/plain": [
       "Ttest_indResult(statistic=-0.1599663264228627, pvalue=0.5631225480315152)"
      ]
     },
     "execution_count": 12,
     "metadata": {},
     "output_type": "execute_result"
    }
   ],
   "source": [
    "##Односторонний t-тест гипотеза a>b\n",
    "stats.ttest_ind(a, b, alternative='greater', equal_var=True)"
   ]
  },
  {
   "cell_type": "code",
   "execution_count": 15,
   "id": "5d7ad1a2-e2a3-4274-85b9-236478b51907",
   "metadata": {},
   "outputs": [
    {
     "data": {
      "text/plain": [
       "Ttest_indResult(statistic=-0.1599663264228627, pvalue=0.4368774519684848)"
      ]
     },
     "execution_count": 15,
     "metadata": {},
     "output_type": "execute_result"
    }
   ],
   "source": [
    "##Односторонний t-тест гипотеза a<b\n",
    "stats.ttest_ind(a, b, alternative='less', equal_var=True)"
   ]
  },
  {
   "cell_type": "markdown",
   "id": "94f812d8-c73a-40f1-a3fb-9e36c670064e",
   "metadata": {},
   "source": [
    "**Спортсмен стреляет по мишени. Вероятность попадания в 1 сектор 0.4, во второй -0.3. Какова вероятность попадания в 1 ИЛИ 2 сектор.**\n",
    "***\"ИЛИ\"*** - сложение вероятностей. Ответ 0.3+0.4 = **0.7**"
   ]
  },
  {
   "cell_type": "markdown",
   "id": "f28c02da-9b9c-4a3a-ac40-97bb5f8c3b15",
   "metadata": {},
   "source": [
    "----\n",
    "В группе 21 студент: 5 отличников, 10 хорошистов, 6 слабых. На предстоящем экзамене отлично могут получить только отличники, хорошисты с равной вероятностью могут получить хорошо или отлично, слабые - с одинаковой вероятностью могут получить хорошо, удовлетворительно или неуд. На экзамен вызывается наугад 1 студент. Какова вероятность, что он получит хорошо или отлично.\n",
    "Ответ: $\\frac{5}{21}*1+\\frac{10}{21}*1+\\frac{6}{21}*\\frac{1}{3}$<br>\n",
    "*для слабых вероятность искомого события 1/3 (если только \"хорошо\")"
   ]
  },
  {
   "cell_type": "markdown",
   "id": "61944ed3-bcb2-445c-b5d2-8268a1768171",
   "metadata": {},
   "source": [
    "---\n",
    "Некоторое изделие выпускается 2-мя заводами. При этом объем продукции 2 завода в 3 раза превосходит объем продукции 1-го. Доля брака у 1-го - 2%, у 2-го - 1%. Изделие выпущено заводами за одинаковый промежуток времени. Изделия перемешали и отправили в продажу. Какова вероятность, что приобретенное изделие со 2-го завода, если оно бракованное?<br>\n",
    "$P (A \\mid B) = \\frac{P(B \\mid A)*P(B)}{P(A)}$ *формула БАЙЕСА<br>\n",
    "*A - брак, В - изделие со 2-го завода, P(B) = 3/4 (0.75), P(A|B) = 0.01, P(A) = 0.25*0.02+0.75*0.01 = 0.0125 (вероятность вытащить * вероятность брака)<br>\n",
    "___"
   ]
  },
  {
   "cell_type": "markdown",
   "id": "5d3e9265-3121-4d03-9f56-5f43a45d3410",
   "metadata": {
    "tags": []
   },
   "source": [
    "### Correlation"
   ]
  },
  {
   "cell_type": "code",
   "execution_count": 92,
   "id": "dafbc90d-3beb-48b2-86e2-b299661d6759",
   "metadata": {},
   "outputs": [],
   "source": [
    "o = np.array([27, 37, 42, 48, 57, 56, 77, 80])"
   ]
  },
  {
   "cell_type": "code",
   "execution_count": 101,
   "id": "eda67753-4a30-43ce-8e52-472f968a8507",
   "metadata": {},
   "outputs": [],
   "source": [
    "p = np.array([1.2, 1.6, 1.8, 1.8, 2.5, 2.6, 3.0, 3.3])"
   ]
  },
  {
   "cell_type": "code",
   "execution_count": 102,
   "id": "8231f902-bb22-4fee-be3a-ca2b9edb7a52",
   "metadata": {},
   "outputs": [
    {
     "name": "stdout",
     "output_type": "stream",
     "text": [
      "8\n"
     ]
    }
   ],
   "source": [
    "print(len(p))"
   ]
  },
  {
   "cell_type": "code",
   "execution_count": 103,
   "id": "9255b098-75ad-4a23-94f5-b2d8b3db7356",
   "metadata": {},
   "outputs": [
    {
     "data": {
      "text/plain": [
       "array([[1.        , 0.97857682],\n",
       "       [0.97857682, 1.        ]])"
      ]
     },
     "execution_count": 103,
     "metadata": {},
     "output_type": "execute_result"
    }
   ],
   "source": [
    "np.corrcoef(o, p)"
   ]
  },
  {
   "cell_type": "markdown",
   "id": "456ac4a6-d0fb-4e16-8af2-7bdf99abb419",
   "metadata": {
    "tags": []
   },
   "source": [
    "#### Отсутствие корреляции между двумя величинами еще не говорит о том, что между показателями нет связи."
   ]
  },
  {
   "cell_type": "code",
   "execution_count": 2,
   "id": "868bf1d3-98a2-46b0-80cf-fa46517316d5",
   "metadata": {},
   "outputs": [],
   "source": [
    "x = np.array([0, -1, 1, -2, 2, -3, 3, -4, 4])"
   ]
  },
  {
   "cell_type": "code",
   "execution_count": 3,
   "id": "6271ca47-7c07-4ba2-bde4-90fc21619a5a",
   "metadata": {},
   "outputs": [
    {
     "data": {
      "text/plain": [
       "[0, 1, 1, 4, 4, 9, 9, 16, 16]"
      ]
     },
     "execution_count": 3,
     "metadata": {},
     "output_type": "execute_result"
    }
   ],
   "source": [
    "y = [x**2 for x in x]\n",
    "y"
   ]
  },
  {
   "cell_type": "code",
   "execution_count": 4,
   "id": "682dd4a6-2ede-4f08-8f7e-ef5243c9f51c",
   "metadata": {},
   "outputs": [
    {
     "data": {
      "text/plain": [
       "array([[1., 0.],\n",
       "       [0., 1.]])"
      ]
     },
     "execution_count": 4,
     "metadata": {},
     "output_type": "execute_result"
    }
   ],
   "source": [
    "np.corrcoef(x, y)"
   ]
  },
  {
   "cell_type": "code",
   "execution_count": null,
   "id": "80e5ad82-32e1-4d9c-aef1-fb1d199ce091",
   "metadata": {},
   "outputs": [],
   "source": [
    "plt.scatter(x, y)\n",
    "plt.show;"
   ]
  },
  {
   "cell_type": "markdown",
   "id": "bfde9d31-7258-4f04-ba4c-f4e7d44844e0",
   "metadata": {
    "tags": []
   },
   "source": [
    "### Covariation"
   ]
  },
  {
   "cell_type": "code",
   "execution_count": 59,
   "id": "d6b3858f-d700-4597-9ff9-bf9e0c495bcd",
   "metadata": {},
   "outputs": [],
   "source": [
    "p = np.array([1.2, 1.6, 1.8, 1.8, 2.5, 2.6, 3.0, 3.3])\n",
    "s = np.array([27, 37, 42, 48, 57, 56, 77, 88])"
   ]
  },
  {
   "cell_type": "code",
   "execution_count": 25,
   "id": "49879cfd-8e3a-49f2-828f-6a767bb138bd",
   "metadata": {},
   "outputs": [
    {
     "data": {
      "text/plain": [
       "12.737500000000011"
      ]
     },
     "execution_count": 25,
     "metadata": {},
     "output_type": "execute_result"
    }
   ],
   "source": [
    "cov = np.mean(p*s) - np.mean(p)*np.mean(s)\n",
    "cov"
   ]
  },
  {
   "cell_type": "code",
   "execution_count": 56,
   "id": "583fe815-59b8-4b33-8826-abf1251adeaa",
   "metadata": {},
   "outputs": [
    {
     "data": {
      "text/plain": [
       "119.88000000000001"
      ]
     },
     "execution_count": 56,
     "metadata": {},
     "output_type": "execute_result"
    }
   ],
   "source": [
    "54*2.22"
   ]
  },
  {
   "cell_type": "code",
   "execution_count": 54,
   "id": "ff746115-c994-4d15-a7d5-6a1e77d6dad8",
   "metadata": {},
   "outputs": [
    {
     "data": {
      "text/plain": [
       "(132.8875, 2.2249999999999996, 54.0)"
      ]
     },
     "execution_count": 54,
     "metadata": {},
     "output_type": "execute_result"
    }
   ],
   "source": [
    "g = np.mean(p*s)\n",
    "h = np.mean(p)\n",
    "j = np.mean(s)\n",
    "g, h, j"
   ]
  },
  {
   "cell_type": "code",
   "execution_count": 34,
   "id": "48922de3-73e4-4c05-b46d-f554a96d3f8e",
   "metadata": {},
   "outputs": [
    {
     "data": {
      "text/plain": [
       "(array([[  0.471875,  12.7375  ],\n",
       "        [ 12.7375  , 362.      ]]),\n",
       " array([[  0.53928571,  14.55714286],\n",
       "        [ 14.55714286, 413.71428571]]))"
      ]
     },
     "execution_count": 34,
     "metadata": {},
     "output_type": "execute_result"
    }
   ],
   "source": [
    "a = np.cov(p,s, ddof=0) # смещенная ковариация\n",
    "b = np.cov(p,s, ddof=1) # несмещенная, по умолчанию,если ddof не указано\n",
    "a, b"
   ]
  },
  {
   "cell_type": "code",
   "execution_count": 37,
   "id": "2d300bec-2793-43d6-b70e-88f2ecd3a529",
   "metadata": {},
   "outputs": [
    {
     "data": {
      "text/plain": [
       "(0.6869315832017042,\n",
       " 19.026297590440446,\n",
       " 0.7343607521414215,\n",
       " 20.339967692065926)"
      ]
     },
     "execution_count": 37,
     "metadata": {},
     "output_type": "execute_result"
    }
   ],
   "source": [
    "std1 = np.std(p)\n",
    "std2 = np.std(s)\n",
    "std3 = np.std(p, ddof=1)\n",
    "std4 = np.std(s, ddof=1)\n",
    "std1, std2, std3, std4"
   ]
  },
  {
   "cell_type": "code",
   "execution_count": 38,
   "id": "0e3668a6-8fb2-4d09-a6f3-ab23181fcbd6",
   "metadata": {},
   "outputs": [
    {
     "data": {
      "text/plain": [
       "0.974577604629697"
      ]
     },
     "execution_count": 38,
     "metadata": {},
     "output_type": "execute_result"
    }
   ],
   "source": [
    "12.7375 / (std1*std2)"
   ]
  },
  {
   "cell_type": "code",
   "execution_count": 39,
   "id": "56e4a52b-bdd7-4166-9f3a-425d6f209c44",
   "metadata": {},
   "outputs": [
    {
     "data": {
      "text/plain": [
       "0.9745747354120188"
      ]
     },
     "execution_count": 39,
     "metadata": {},
     "output_type": "execute_result"
    }
   ],
   "source": [
    "14.5571 / (std3*std4)"
   ]
  },
  {
   "cell_type": "code",
   "execution_count": 28,
   "id": "c10c36bb-fc1b-4f52-860b-e6fd336f8a98",
   "metadata": {},
   "outputs": [
    {
     "data": {
      "text/plain": [
       "array([[1.       , 0.9745776],\n",
       "       [0.9745776, 1.       ]])"
      ]
     },
     "execution_count": 28,
     "metadata": {},
     "output_type": "execute_result"
    }
   ],
   "source": [
    "np.corrcoef(p,s) #коэффициент Пирсона или нормированная ковариация"
   ]
  },
  {
   "cell_type": "markdown",
   "id": "71184f72-7ae7-4271-b571-d97a3097c933",
   "metadata": {},
   "source": [
    "$cov_{xy} = M(XY)-M(X)*M(Y)$ <br>Ковариация - величина, определяющая зависимость 2 случайных величин<br> \n",
    "<br>$r_{xy} = \\frac {cov_{xy}}{\\sigma_x * \\sigma_y}$ коэф.Пирсона"
   ]
  },
  {
   "cell_type": "markdown",
   "id": "6b17887d-4f3c-412d-8b09-a4e62482bec3",
   "metadata": {},
   "source": [
    "Коэффициент корреляции Спирмена – это ранговый коэффициент корреляции, также показывает тесноту линейной связи, но в отличии от коэффициента корреляции Пирсона не требует нормальности распределений случайных величин и применяется для порядковых и количественных данных."
   ]
  },
  {
   "cell_type": "code",
   "execution_count": 40,
   "id": "2e654999-53a4-4b0b-8373-754fea5d6a72",
   "metadata": {},
   "outputs": [
    {
     "data": {
      "text/plain": [
       "SpearmanrResult(correlation=0.9700772721497398, pvalue=6.548558831120599e-05)"
      ]
     },
     "execution_count": 40,
     "metadata": {},
     "output_type": "execute_result"
    }
   ],
   "source": [
    "stats.spearmanr(p, s)"
   ]
  },
  {
   "cell_type": "code",
   "execution_count": 41,
   "id": "56b5febe-ed2c-4622-9e6f-df3e1baccb81",
   "metadata": {},
   "outputs": [
    {
     "data": {
      "text/plain": [
       "(array([27, 37, 42, 48, 57, 56, 77, 88]),\n",
       " array([1.2, 1.6, 1.8, 1.8, 2.5, 2.6, 3. , 3.3]))"
      ]
     },
     "execution_count": 41,
     "metadata": {},
     "output_type": "execute_result"
    }
   ],
   "source": [
    "s, p"
   ]
  },
  {
   "cell_type": "code",
   "execution_count": 51,
   "id": "99177c65-b915-4a1b-9133-c20c5203324c",
   "metadata": {},
   "outputs": [],
   "source": [
    "s2 = np.array([1, 2, 3, 4, 6, 5, 7, 8])\n",
    "p2 = np.array([1, 2, 3.5, 3.5, 5, 6, 7, 8])"
   ]
  },
  {
   "cell_type": "code",
   "execution_count": 53,
   "id": "b5c58b6f-0eca-45dc-b32c-6a6b10d9b767",
   "metadata": {},
   "outputs": [
    {
     "data": {
      "text/plain": [
       "array([[1.        , 0.97007727],\n",
       "       [0.97007727, 1.        ]])"
      ]
     },
     "execution_count": 53,
     "metadata": {},
     "output_type": "execute_result"
    }
   ],
   "source": [
    "np.corrcoef(s2, p2) # расчет коэф.Спирмана вручную"
   ]
  },
  {
   "cell_type": "code",
   "execution_count": 42,
   "id": "3c6442e0-1926-4fd8-a6b1-9eb7168fdd35",
   "metadata": {},
   "outputs": [
    {
     "data": {
      "text/plain": [
       "array([27, 37, 42, 48, 57, 56, 77, 88])"
      ]
     },
     "execution_count": 42,
     "metadata": {},
     "output_type": "execute_result"
    }
   ],
   "source": [
    "s3 = np.linalg.matrix_rank(s)\n",
    "s"
   ]
  },
  {
   "cell_type": "code",
   "execution_count": 48,
   "id": "013ca7bd-254d-4aaf-8d79-41f8b1c8d30b",
   "metadata": {},
   "outputs": [
    {
     "name": "stdout",
     "output_type": "stream",
     "text": [
      "[0.1, 0.9, 0.8, 0.65, 0.2, 0.7]\n",
      "1 - 1 - 0.9\n",
      "2 - 2 - 0.8\n",
      "3 - 5 - 0.7\n",
      "4 - 3 - 0.65\n",
      "5 - 4 - 0.2\n",
      "6 - 0 - 0.1\n"
     ]
    }
   ],
   "source": [
    "values = [0.1, 0.9, 0.8, 0.65, 0.2, 0.7]\n",
    "#Create a copy of the list\n",
    "vals = values[:]\n",
    "print(vals)\n",
    "for i in range(len(vals)):\n",
    "    m = max(vals)\n",
    "    print(i+1,'-',values.index(m),'-',m)\n",
    "    vals.remove(m)"
   ]
  },
  {
   "cell_type": "code",
   "execution_count": 75,
   "id": "43b5a7dc-9df0-4d8d-b11c-13088c5bb59f",
   "metadata": {},
   "outputs": [
    {
     "name": "stdout",
     "output_type": "stream",
     "text": [
      "[2, 3, 6, 4, 5, 1]\n",
      "1 - 2 - 0.9\n",
      "2 - 3 - 0.8\n",
      "3 - 6 - 0.7\n",
      "4 - 4 - 0.65\n",
      "5 - 5 - 0.2\n",
      "6 - 1 - 0.1\n"
     ]
    }
   ],
   "source": [
    "indices = np.argsort(values)[::-1]\n",
    "ranks = [i+1 for i in indices]\n",
    "print(ranks)\n",
    "\n",
    "for i in range(len(values)):\n",
    "    print(i+1,'-',ranks[i],'-',values[indices[i]])"
   ]
  }
 ],
 "metadata": {
  "kernelspec": {
   "display_name": "Python 3 (ipykernel)",
   "language": "python",
   "name": "python3"
  },
  "language_info": {
   "codemirror_mode": {
    "name": "ipython",
    "version": 3
   },
   "file_extension": ".py",
   "mimetype": "text/x-python",
   "name": "python",
   "nbconvert_exporter": "python",
   "pygments_lexer": "ipython3",
   "version": "3.9.13"
  }
 },
 "nbformat": 4,
 "nbformat_minor": 5
}
